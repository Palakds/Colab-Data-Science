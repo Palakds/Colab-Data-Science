{
  "nbformat": 4,
  "nbformat_minor": 0,
  "metadata": {
    "colab": {
      "provenance": [],
      "authorship_tag": "ABX9TyP9yHgBwiqhr/P3HhQwCnGP",
      "include_colab_link": true
    },
    "kernelspec": {
      "name": "python3",
      "display_name": "Python 3"
    },
    "language_info": {
      "name": "python"
    }
  },
  "cells": [
    {
      "cell_type": "markdown",
      "metadata": {
        "id": "view-in-github",
        "colab_type": "text"
      },
      "source": [
        "<a href=\"https://colab.research.google.com/github/Palakds/Colab-Data-Science/blob/campus-x-work/28_May.ipynb\" target=\"_parent\"><img src=\"https://colab.research.google.com/assets/colab-badge.svg\" alt=\"Open In Colab\"/></a>"
      ]
    },
    {
      "cell_type": "code",
      "execution_count": null,
      "metadata": {
        "colab": {
          "base_uri": "https://localhost:8080/"
        },
        "id": "85ZOQr8CP655",
        "outputId": "9a34198c-ca9b-4abb-ceac-95b5484718cc"
      },
      "outputs": [
        {
          "output_type": "stream",
          "name": "stdout",
          "text": [
            "enter values for the cylindrical part of the test in meters\n",
            "enter the height of the cylinder part3\n",
            "enter the radius:5\n",
            "enter the slant height7\n",
            "The area of the the canvas is 204.10000000000002 m^2\n",
            "enter the cost of 1 m^2 canvas25\n",
            "the total cost 5102.500000000001\n",
            "net price 9184.500000000002\n"
          ]
        }
      ],
      "source": [
        "print('enter values for the cylindrical part of the test in meters')\n",
        "h=float(input(\"enter the height of the cylinder part\"))\n",
        "r=float(input(\"enter the radius:\"))\n",
        "l=float(input(\"enter the slant height\"))\n",
        "csa_conical=3.14*r*l\n",
        "csa_cylinder=2*3.14*r*h\n",
        "canvas_area=csa_conical+csa_cylinder\n",
        "print(\"The area of the the canvas is\",canvas_area,\"m^2\")\n",
        "unit_price=float(input(\"enter the cost of 1 m^2 canvas\"))\n",
        "total_cost=unit_price*canvas_area\n",
        "print(\"the total cost\",total_cost)\n",
        "#tax\n",
        "tax=0.8*total_cost\n",
        "net_price=total_cost+tax\n",
        "print(\"net price\",net_price)"
      ]
    },
    {
      "cell_type": "code",
      "source": [
        "def cyl(h,r):\n",
        "    area_cyl=2*3.14*r*h\n",
        "    return(area_cyl)\n",
        "\n",
        "def con(l,r):\n",
        "    area_con=3.14*r*l\n",
        "    return(area_con)\n",
        "\n",
        "def post_tax(cost):\n",
        "    tax=0.18*cost\n",
        "    net_price=cost+tax\n",
        "    return(net_price)\n",
        "\n",
        "def rect(l,b):\n",
        "   area_rect=l*b\n",
        "   return(area_rect)\n"
      ],
      "metadata": {
        "id": "35_9aSxIQnZv"
      },
      "execution_count": null,
      "outputs": []
    },
    {
      "cell_type": "code",
      "source": [
        "print(\"Enter the value of tent in meters\")\n",
        "h=float(input(\"Height:\"))\n",
        "r=float(input(\"Radius:\"))\n",
        "csa_cyl=cyl(h,r)\n",
        "l=float(input(\"slant height\"))\n",
        "csa_con= con(l,r)\n",
        "canvas_area= csa_cyl + csa_con\n",
        "print(\"Area of canvas =\",canvas_area,\"m^2\")\n",
        "unitprice=float(input(\"Enter the unit price\"))\n",
        "totalcost=unitprice*canvas_area\n",
        "print(\"Total cost of canvas before tax=\",totalcost)\n",
        "print(\"Net amount payable (including tax)=\",post_tax(totalcost))"
      ],
      "metadata": {
        "colab": {
          "base_uri": "https://localhost:8080/"
        },
        "id": "5tfC_LwlQqhz",
        "outputId": "12ba6b0f-ab62-4914-d19e-334fd3982fb9"
      },
      "execution_count": null,
      "outputs": [
        {
          "output_type": "stream",
          "name": "stdout",
          "text": [
            "Enter the value of tent in meters\n",
            "Height:5\n",
            "Radius:6\n",
            "slant height8\n",
            "Area of canvas = 339.12 m^2\n",
            "Enter the unit price25\n",
            "Total cost of canvas before tax= 8478.0\n",
            "Net amount payable (including tax)= 10004.04\n"
          ]
        }
      ]
    },
    {
      "cell_type": "code",
      "source": [
        "print(\"Enter the value of tent in meters\")\n",
        "len=float(input(\"Length:\"))\n",
        "bre=float(input(\"Breadth:\"))\n",
        "r=float(input(\"radius:\"))\n",
        "l=float(input(\"slant height\"))\n",
        "csa_rect = rect(len,bre)\n",
        "csa_con= con(l,r)\n",
        "canvas_area= csa_cyl + csa_con\n",
        "print(\"Area of canvas =\",canvas_area,\"m^2\")\n",
        "unitprice=float(input(\"Enter the unit price\"))\n",
        "totalcost=unitprice*canvas_area\n",
        "print(\"Total cost of canvas before tax=\",totalcost)\n",
        "print(\"Net amount payable (including tax)=\",post_tax(totalcost))"
      ],
      "metadata": {
        "colab": {
          "base_uri": "https://localhost:8080/"
        },
        "id": "ruC99Z-ZQqjn",
        "outputId": "d609e1d7-3daf-41b0-9100-8a25bb94f73a"
      },
      "execution_count": null,
      "outputs": [
        {
          "output_type": "stream",
          "name": "stdout",
          "text": [
            "Enter the value of tent in meters\n",
            "Length:19\n",
            "Breadth:18\n",
            "radius:6\n",
            "slant height25\n",
            "Area of canvas = 659.4 m^2\n",
            "Enter the unit price45\n",
            "Total cost of canvas before tax= 29673.0\n",
            "Net amount payable (including tax)= 35014.14\n"
          ]
        }
      ]
    },
    {
      "cell_type": "markdown",
      "source": [
        "Write a program using user defined function that accept an integer and increments the value by 5. Also display the id of argument (before calling function ) , id of parameter before increment and after increment."
      ],
      "metadata": {
        "id": "IntjIxdiYfmi"
      }
    },
    {
      "cell_type": "code",
      "source": [
        "def incrvalue(num):\n",
        "  print(\"parametr num has value:\",num,\"\\nid =\",id(num))\n",
        "  num=num+5\n",
        "  print(\"num incremented by 5 is:\",num,\"\\n Num id is\",id(num))\n"
      ],
      "metadata": {
        "id": "ElC1HUQjQqo0"
      },
      "execution_count": null,
      "outputs": []
    },
    {
      "cell_type": "code",
      "source": [
        "number=int(input(\"Enter a number:\"))\n",
        "print(\"id of argument is:\",id(number))\n",
        "incrvalue(number)"
      ],
      "metadata": {
        "colab": {
          "base_uri": "https://localhost:8080/"
        },
        "id": "kQm8EEdrZFSW",
        "outputId": "16b173b1-ff46-4ae6-841a-f4f6ccfe195c"
      },
      "execution_count": null,
      "outputs": [
        {
          "output_type": "stream",
          "name": "stdout",
          "text": [
            "Enter a number:8\n",
            "id of argument is: 134878466490832\n",
            "parametr num has value: 8 \n",
            "id = 134878466490832\n",
            "num incremented by 5 is: 13 \n",
            " Num id is 134878466490992\n"
          ]
        }
      ]
    },
    {
      "cell_type": "markdown",
      "source": [
        "Write a program that accepts numerator and denominator of a fractional number and calls a user defined function mixedFraction() when formed is not proper fraction. The default value of denominator is 1. The function display a mixed fraction only if the fraction formed by the parameter does not evaluate to a whole number.\n"
      ],
      "metadata": {
        "id": "hb8iQBV1bVwy"
      }
    },
    {
      "cell_type": "code",
      "source": [
        "from pickle import decode_long\n",
        "def mixedfract(num,deno=1):\n",
        "  remainder=num%deno\n",
        "  if remainder !=0:\n",
        "    quotient=int(num/deno)\n",
        "    print(\"The mixed fraction =\",quotient,\"(\",remainder,\"/\",deno,\")\")\n",
        "  else:\n",
        "      print(\"The given fraction evaluates to a whole number\")\n"
      ],
      "metadata": {
        "id": "SrqyIIf6ZmeE"
      },
      "execution_count": null,
      "outputs": []
    },
    {
      "cell_type": "code",
      "source": [
        "num=int(input(\"Enter the numbers:\"))\n",
        "deno=int(input(\"Enter the denominator:\"))\n",
        "print(\"You entered:\",num,\"/\",deno)\n",
        "if num > deno:\n",
        "  mixedfract(num,deno)\n",
        "else:\n",
        "    print(\"It is a proper fractional\")\n"
      ],
      "metadata": {
        "colab": {
          "base_uri": "https://localhost:8080/"
        },
        "id": "rHmarkHDhHRn",
        "outputId": "2a36d721-76bc-46c4-eadf-b85f7c30a451"
      },
      "execution_count": null,
      "outputs": [
        {
          "output_type": "stream",
          "name": "stdout",
          "text": [
            "Enter the numbers:17\n",
            "Enter the denominator:2\n",
            "You entered: 17 / 2\n",
            "The mixed fraction = 8 ( 1 / 2 )\n"
          ]
        }
      ]
    },
    {
      "cell_type": "code",
      "source": [],
      "metadata": {
        "id": "yliUHuJAmQ1V"
      },
      "execution_count": null,
      "outputs": []
    },
    {
      "cell_type": "code",
      "source": [],
      "metadata": {
        "id": "ly0qJc5wmQ4y"
      },
      "execution_count": null,
      "outputs": []
    }
  ]
}