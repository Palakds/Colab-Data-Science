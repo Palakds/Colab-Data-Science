{
  "nbformat": 4,
  "nbformat_minor": 0,
  "metadata": {
    "colab": {
      "provenance": [],
      "authorship_tag": "ABX9TyMWUq5JigUt2mQaUrp43+6F",
      "include_colab_link": true
    },
    "kernelspec": {
      "name": "python3",
      "display_name": "Python 3"
    },
    "language_info": {
      "name": "python"
    }
  },
  "cells": [
    {
      "cell_type": "markdown",
      "metadata": {
        "id": "view-in-github",
        "colab_type": "text"
      },
      "source": [
        "<a href=\"https://colab.research.google.com/github/Palakds/Palakds/blob/main/Python_fundamentals.ipynb\" target=\"_parent\"><img src=\"https://colab.research.google.com/assets/colab-badge.svg\" alt=\"Open In Colab\"/></a>"
      ]
    },
    {
      "cell_type": "markdown",
      "source": [
        "1. Python Output"
      ],
      "metadata": {
        "id": "L_baxAiGrckT"
      }
    },
    {
      "cell_type": "code",
      "source": [
        "#python is a case sensitive language\n",
        "print(\"Hello world\")"
      ],
      "metadata": {
        "colab": {
          "base_uri": "https://localhost:8080/"
        },
        "id": "WTS1vMiGrdKd",
        "outputId": "065e553e-3ca1-4f99-e5d9-af418cb1cd9e"
      },
      "execution_count": 1,
      "outputs": [
        {
          "output_type": "stream",
          "name": "stdout",
          "text": [
            "Hello world\n"
          ]
        }
      ]
    },
    {
      "cell_type": "code",
      "source": [
        "print(\"Hello\",1,2,3,4.5,True)"
      ],
      "metadata": {
        "colab": {
          "base_uri": "https://localhost:8080/"
        },
        "id": "AKB9QO9oseCD",
        "outputId": "b26143af-5530-490d-a889-73ff302a64a9"
      },
      "execution_count": 3,
      "outputs": [
        {
          "output_type": "stream",
          "name": "stdout",
          "text": [
            "Hello 1 2 3 4.5 True\n"
          ]
        }
      ]
    },
    {
      "cell_type": "code",
      "source": [
        "print('Hello',1,2,3,sep='/')"
      ],
      "metadata": {
        "colab": {
          "base_uri": "https://localhost:8080/"
        },
        "id": "OV8KNHWXsrfE",
        "outputId": "47773a63-00da-4f34-cc19-7ce8f7230775"
      },
      "execution_count": 4,
      "outputs": [
        {
          "output_type": "stream",
          "name": "stdout",
          "text": [
            "Hello/1/2/3\n"
          ]
        }
      ]
    },
    {
      "cell_type": "code",
      "source": [
        "print('Hello')\n",
        "print('World')"
      ],
      "metadata": {
        "colab": {
          "base_uri": "https://localhost:8080/"
        },
        "id": "P4mVhogetFWM",
        "outputId": "e8f17e56-d6da-45ab-b3ff-0466fba54238"
      },
      "execution_count": 6,
      "outputs": [
        {
          "output_type": "stream",
          "name": "stdout",
          "text": [
            "Hello\n",
            "World\n"
          ]
        }
      ]
    },
    {
      "cell_type": "code",
      "source": [
        "print('Hello',end='-')\n",
        "print('world')"
      ],
      "metadata": {
        "colab": {
          "base_uri": "https://localhost:8080/"
        },
        "id": "6nu04pPntL1A",
        "outputId": "0d27c1e3-d91f-4b64-a5e1-856d90ab4de1"
      },
      "execution_count": 7,
      "outputs": [
        {
          "output_type": "stream",
          "name": "stdout",
          "text": [
            "Hello-world\n"
          ]
        }
      ]
    },
    {
      "cell_type": "markdown",
      "source": [
        "2. Data Types\n"
      ],
      "metadata": {
        "id": "CdXLOsxkrdi3"
      }
    },
    {
      "cell_type": "code",
      "source": [
        "#Integer\n",
        "print(8)\n",
        "#1*10^308\n",
        "print(1e308)"
      ],
      "metadata": {
        "colab": {
          "base_uri": "https://localhost:8080/"
        },
        "id": "UIpizg_ZriSe",
        "outputId": "7aa4f19a-9546-496a-dbc1-9b88af6d7eb3"
      },
      "execution_count": 8,
      "outputs": [
        {
          "output_type": "stream",
          "name": "stdout",
          "text": [
            "8\n",
            "1e+308\n"
          ]
        }
      ]
    },
    {
      "cell_type": "code",
      "source": [
        "#Decimal/Float\n",
        "print(8.55)\n",
        "print(1.7e309)"
      ],
      "metadata": {
        "colab": {
          "base_uri": "https://localhost:8080/"
        },
        "id": "0A53QhLYtsm2",
        "outputId": "e00e361c-2262-456e-ce73-ce765da12802"
      },
      "execution_count": 9,
      "outputs": [
        {
          "output_type": "stream",
          "name": "stdout",
          "text": [
            "8.55\n",
            "inf\n"
          ]
        }
      ]
    },
    {
      "cell_type": "code",
      "source": [
        "#Boolean\n",
        "print(True)\n",
        "print(False)"
      ],
      "metadata": {
        "colab": {
          "base_uri": "https://localhost:8080/"
        },
        "id": "JVA0IgOKtsqZ",
        "outputId": "2ba73566-b2d6-446f-be0e-1b5af6834b42"
      },
      "execution_count": 10,
      "outputs": [
        {
          "output_type": "stream",
          "name": "stdout",
          "text": [
            "True\n",
            "False\n"
          ]
        }
      ]
    },
    {
      "cell_type": "code",
      "source": [
        "# Text/String\n",
        "print('Hello world')"
      ],
      "metadata": {
        "colab": {
          "base_uri": "https://localhost:8080/"
        },
        "id": "Zbsu4TkjuSWM",
        "outputId": "f2316ba9-79fe-49da-da8d-c259fcaaf9b8"
      },
      "execution_count": 11,
      "outputs": [
        {
          "output_type": "stream",
          "name": "stdout",
          "text": [
            "Hello world\n"
          ]
        }
      ]
    },
    {
      "cell_type": "code",
      "source": [
        "#Complex\n",
        "print(5+6j)"
      ],
      "metadata": {
        "colab": {
          "base_uri": "https://localhost:8080/"
        },
        "id": "XmZpFYMruSZb",
        "outputId": "8f190038-1b46-47b7-d397-f7371820922a"
      },
      "execution_count": 12,
      "outputs": [
        {
          "output_type": "stream",
          "name": "stdout",
          "text": [
            "(5+6j)\n"
          ]
        }
      ]
    },
    {
      "cell_type": "code",
      "source": [
        "#list->c->Array\n",
        "print([1,2,3,4,5])"
      ],
      "metadata": {
        "colab": {
          "base_uri": "https://localhost:8080/"
        },
        "id": "88JwgYrVuSc7",
        "outputId": "8ed83130-343e-47a3-ca62-6882f76f48a2"
      },
      "execution_count": 13,
      "outputs": [
        {
          "output_type": "stream",
          "name": "stdout",
          "text": [
            "[1, 2, 3, 4, 5]\n"
          ]
        }
      ]
    },
    {
      "cell_type": "code",
      "source": [
        "#Tuple\n",
        "print((1,2,3,45,6))"
      ],
      "metadata": {
        "colab": {
          "base_uri": "https://localhost:8080/"
        },
        "id": "02AdmcA2upQo",
        "outputId": "05df0caa-8c80-4657-adcd-393fc4d1b5e4"
      },
      "execution_count": 14,
      "outputs": [
        {
          "output_type": "stream",
          "name": "stdout",
          "text": [
            "(1, 2, 3, 45, 6)\n"
          ]
        }
      ]
    },
    {
      "cell_type": "code",
      "source": [
        "#Sets\n",
        "print({1,2,3,4})"
      ],
      "metadata": {
        "colab": {
          "base_uri": "https://localhost:8080/"
        },
        "id": "NMc1TI4NupUM",
        "outputId": "351c8c3f-408d-489f-8f12-935632d6807d"
      },
      "execution_count": 15,
      "outputs": [
        {
          "output_type": "stream",
          "name": "stdout",
          "text": [
            "{1, 2, 3, 4}\n"
          ]
        }
      ]
    },
    {
      "cell_type": "code",
      "source": [
        "#Dictionary\n",
        "print({'name':'Palak','Surname':'Gupta','weight':55})"
      ],
      "metadata": {
        "colab": {
          "base_uri": "https://localhost:8080/"
        },
        "id": "Suuxe8Fdupc_",
        "outputId": "c27eda81-89d3-416c-a5f1-b0f20aead408"
      },
      "execution_count": 17,
      "outputs": [
        {
          "output_type": "stream",
          "name": "stdout",
          "text": [
            "{'name': 'Palak', 'Surname': 'Gupta', 'weight': 55}\n"
          ]
        }
      ]
    },
    {
      "cell_type": "code",
      "source": [
        "#Type\n",
        "type(3)\n",
        "type(3.5)"
      ],
      "metadata": {
        "colab": {
          "base_uri": "https://localhost:8080/"
        },
        "id": "bvUT2T9uveQO",
        "outputId": "9a903ce6-da66-462c-bdac-6d825f2d5266"
      },
      "execution_count": 19,
      "outputs": [
        {
          "output_type": "execute_result",
          "data": {
            "text/plain": [
              "float"
            ]
          },
          "metadata": {},
          "execution_count": 19
        }
      ]
    },
    {
      "cell_type": "markdown",
      "source": [
        "3.Variables\n"
      ],
      "metadata": {
        "id": "WbT0i0CerioO"
      }
    },
    {
      "cell_type": "code",
      "source": [
        "#Static Vs Dynamic Typing\n",
        "#Static Vs Dynamic Binding\n",
        "#Stylish declaration techniques"
      ],
      "metadata": {
        "id": "kzkuCBVwwijT"
      },
      "execution_count": null,
      "outputs": []
    },
    {
      "cell_type": "code",
      "source": [
        "name='Palak'\n",
        "print(name)\n",
        "\n",
        "a=5\n",
        "b=6\n",
        "print(a+b)"
      ],
      "metadata": {
        "colab": {
          "base_uri": "https://localhost:8080/"
        },
        "id": "rsF6ZNdkri3Q",
        "outputId": "b3142ec0-7521-4390-98a0-b40ed46d1a09"
      },
      "execution_count": 21,
      "outputs": [
        {
          "output_type": "stream",
          "name": "stdout",
          "text": [
            "Palak\n",
            "11\n"
          ]
        }
      ]
    },
    {
      "cell_type": "code",
      "source": [
        "# Dynamic typing\n",
        "a=5\n",
        "#Static typing\n",
        "#int a=5"
      ],
      "metadata": {
        "id": "B3QBJZ8vwyTu"
      },
      "execution_count": 23,
      "outputs": []
    },
    {
      "cell_type": "code",
      "source": [
        "#Dynamic typing\n",
        "a=5\n",
        "print(a)\n",
        "a='Palak'\n",
        "print(a)\n",
        "#static binding\n",
        "#int a =5"
      ],
      "metadata": {
        "colab": {
          "base_uri": "https://localhost:8080/"
        },
        "id": "lnGjMPp0wyWA",
        "outputId": "02ca0da0-e65e-4ba1-8559-4cff44320281"
      },
      "execution_count": 24,
      "outputs": [
        {
          "output_type": "stream",
          "name": "stdout",
          "text": [
            "5\n",
            "Palak\n"
          ]
        }
      ]
    },
    {
      "cell_type": "code",
      "source": [
        "a=1\n",
        "b=1\n",
        "c=3\n",
        "print(a,b,c)"
      ],
      "metadata": {
        "colab": {
          "base_uri": "https://localhost:8080/"
        },
        "id": "wP2LeG5vwyYt",
        "outputId": "6c214ec0-ac1f-474b-9276-70b936340bc5"
      },
      "execution_count": 25,
      "outputs": [
        {
          "output_type": "stream",
          "name": "stdout",
          "text": [
            "1 1 3\n"
          ]
        }
      ]
    },
    {
      "cell_type": "code",
      "source": [
        "a,b,c=1,2,3\n",
        "print(a,b,c)"
      ],
      "metadata": {
        "colab": {
          "base_uri": "https://localhost:8080/"
        },
        "id": "5TTNsOQuwyb-",
        "outputId": "7ca6d926-ee07-4ddb-82e2-93072997b7bf"
      },
      "execution_count": 26,
      "outputs": [
        {
          "output_type": "stream",
          "name": "stdout",
          "text": [
            "1 2 3\n"
          ]
        }
      ]
    },
    {
      "cell_type": "code",
      "source": [
        "a=b=c=5\n",
        "print(a,b,c)"
      ],
      "metadata": {
        "colab": {
          "base_uri": "https://localhost:8080/"
        },
        "id": "3HDmgbzox1BW",
        "outputId": "27ed9188-3adf-4608-f9bc-d2ddfee4d8ab"
      },
      "execution_count": 27,
      "outputs": [
        {
          "output_type": "stream",
          "name": "stdout",
          "text": [
            "5 5 5\n"
          ]
        }
      ]
    },
    {
      "cell_type": "markdown",
      "source": [
        "4. Key words and identifiers"
      ],
      "metadata": {
        "id": "GfUVRCxu19o0"
      }
    },
    {
      "cell_type": "code",
      "source": [
        "# Keywords\n"
      ],
      "metadata": {
        "id": "dn6CvJ0rx1Gh"
      },
      "execution_count": null,
      "outputs": []
    },
    {
      "cell_type": "code",
      "source": [
        "#identifiers\n",
        "#you cannot start with a digit (1name)\n",
        "# you can use special chra mein just under score\n",
        "#indefiers cannot be keywords\n"
      ],
      "metadata": {
        "id": "eOq_qT5cx1I3"
      },
      "execution_count": null,
      "outputs": []
    },
    {
      "cell_type": "markdown",
      "source": [
        "5. User Input"
      ],
      "metadata": {
        "id": "R1Pr-pkf6GUY"
      }
    },
    {
      "cell_type": "code",
      "source": [
        "# Static Vs Dynamic\n",
        "input('Name')"
      ],
      "metadata": {
        "colab": {
          "base_uri": "https://localhost:8080/",
          "height": 53
        },
        "id": "fRrzxaidx1K2",
        "outputId": "755429c8-30fc-410e-878e-2d77001dd578"
      },
      "execution_count": 28,
      "outputs": [
        {
          "name": "stdout",
          "output_type": "stream",
          "text": [
            "Namepalak\n"
          ]
        },
        {
          "output_type": "execute_result",
          "data": {
            "text/plain": [
              "'palak'"
            ],
            "application/vnd.google.colaboratory.intrinsic+json": {
              "type": "string"
            }
          },
          "metadata": {},
          "execution_count": 28
        }
      ]
    },
    {
      "cell_type": "code",
      "source": [
        "#take input from user and store them in a variable\n",
        "sum1=input('Enter first number')\n",
        "sum2=input('Enter second number')\n",
        "#print(type(sum1),type(sum2))\n",
        "# add the two variables\n",
        "result=int(sum1)+int(sum2)\n",
        "#print the result\n",
        "print(result)\n",
        "\n",
        "\n",
        "\n",
        "sum3=int(input('enter number'))\n",
        "sum4=int(input('enter number'))\n",
        "result2=sum3+sum4\n",
        "print(result2)\n"
      ],
      "metadata": {
        "colab": {
          "base_uri": "https://localhost:8080/"
        },
        "id": "hKsk3a1sx1M-",
        "outputId": "20fb06d2-bd72-48ed-c1e4-053823413885"
      },
      "execution_count": 40,
      "outputs": [
        {
          "output_type": "stream",
          "name": "stdout",
          "text": [
            "Enter first number4\n",
            "Enter second number5\n",
            "9\n",
            "enter number6\n",
            "enter number7\n",
            "13\n"
          ]
        }
      ]
    },
    {
      "cell_type": "markdown",
      "source": [
        "6. Type Conversion"
      ],
      "metadata": {
        "id": "Ubj0S34g80cj"
      }
    },
    {
      "cell_type": "code",
      "source": [
        "#implicit Vs explicit\n",
        "print(5+5.6)\n",
        "print(type(5),type(5.6))"
      ],
      "metadata": {
        "colab": {
          "base_uri": "https://localhost:8080/"
        },
        "id": "tkFrD_Opx1QS",
        "outputId": "197ded09-7f02-4739-d11f-ca146887ba3e"
      },
      "execution_count": 34,
      "outputs": [
        {
          "output_type": "stream",
          "name": "stdout",
          "text": [
            "10.6\n",
            "<class 'int'> <class 'float'>\n"
          ]
        }
      ]
    },
    {
      "cell_type": "code",
      "source": [
        "#Explicit\n",
        "#str -> int\n",
        "type(int('4'))\n",
        "#int to str\n",
        "str(5)\n",
        "#float\n",
        "float(4)\n"
      ],
      "metadata": {
        "colab": {
          "base_uri": "https://localhost:8080/"
        },
        "id": "QllFVibI9D7-",
        "outputId": "32d4fab2-6d9f-4739-e8b1-570c13aec6cf"
      },
      "execution_count": 38,
      "outputs": [
        {
          "output_type": "execute_result",
          "data": {
            "text/plain": [
              "4.0"
            ]
          },
          "metadata": {},
          "execution_count": 38
        }
      ]
    },
    {
      "cell_type": "markdown",
      "source": [
        "7. Literals"
      ],
      "metadata": {
        "id": "70BO4zOS--ku"
      }
    },
    {
      "cell_type": "code",
      "source": [
        "a=0b1010 #binary literal\n",
        "print(a)"
      ],
      "metadata": {
        "colab": {
          "base_uri": "https://localhost:8080/"
        },
        "id": "ZECfFfHx_5CT",
        "outputId": "b1a217e8-5a9f-4978-c758-5608cff85cc8"
      },
      "execution_count": 43,
      "outputs": [
        {
          "output_type": "stream",
          "name": "stdout",
          "text": [
            "10\n"
          ]
        }
      ]
    },
    {
      "cell_type": "code",
      "source": [
        "# Decimal literal\n",
        "b=100\n",
        "print(b)"
      ],
      "metadata": {
        "colab": {
          "base_uri": "https://localhost:8080/"
        },
        "id": "qk0rlTdFAMMs",
        "outputId": "7205489a-ac01-40f2-b399-383140c96d01"
      },
      "execution_count": 45,
      "outputs": [
        {
          "output_type": "stream",
          "name": "stdout",
          "text": [
            "100\n"
          ]
        }
      ]
    },
    {
      "cell_type": "code",
      "source": [
        "#octal literal\n",
        "c=0o310\n",
        "print(c)"
      ],
      "metadata": {
        "colab": {
          "base_uri": "https://localhost:8080/"
        },
        "id": "Xfd67aeWAaUR",
        "outputId": "cf0986f1-97dc-4852-ec8f-e8149c41001e"
      },
      "execution_count": 46,
      "outputs": [
        {
          "output_type": "stream",
          "name": "stdout",
          "text": [
            "200\n"
          ]
        }
      ]
    },
    {
      "cell_type": "code",
      "source": [
        "# Hexadecimal literal\n",
        "d=0x12c\n",
        "print(d)"
      ],
      "metadata": {
        "colab": {
          "base_uri": "https://localhost:8080/"
        },
        "id": "N8QEl-6EAh9A",
        "outputId": "43413633-5d9b-43fb-bafa-4811554a99b4"
      },
      "execution_count": 47,
      "outputs": [
        {
          "output_type": "stream",
          "name": "stdout",
          "text": [
            "300\n"
          ]
        }
      ]
    },
    {
      "cell_type": "code",
      "source": [
        "#float literal\n",
        "float_1=10.5\n",
        "float_2=1.5e2\n",
        "float_3=1.5e-3\n",
        "print(float_1,float_2,float_3)"
      ],
      "metadata": {
        "colab": {
          "base_uri": "https://localhost:8080/"
        },
        "id": "1rIkA_RQA5_U",
        "outputId": "01bda061-7d17-48e8-bf1e-40989b9d660b"
      },
      "execution_count": 49,
      "outputs": [
        {
          "output_type": "stream",
          "name": "stdout",
          "text": [
            "10.5 150.0 0.0015\n"
          ]
        }
      ]
    },
    {
      "cell_type": "code",
      "source": [
        "#Complex Literal\n",
        "x=3.14j\n",
        "print(x)\n",
        "print(x.imag,x.real)"
      ],
      "metadata": {
        "colab": {
          "base_uri": "https://localhost:8080/"
        },
        "id": "PYtiHeHCBP1_",
        "outputId": "b4328eab-c827-43a7-ffad-d8b68c8b79f2"
      },
      "execution_count": 53,
      "outputs": [
        {
          "output_type": "stream",
          "name": "stdout",
          "text": [
            "3.14j\n",
            "3.14 0.0\n"
          ]
        }
      ]
    },
    {
      "cell_type": "code",
      "source": [
        "# strings\n",
        "string='This is me'\n",
        "string_1=\"P\"\n",
        "string_2=u\"\\U0001f600\\U0001F606\\U0001F923\"\n",
        "print(string_2)"
      ],
      "metadata": {
        "colab": {
          "base_uri": "https://localhost:8080/"
        },
        "id": "yRAwvxMOBaOm",
        "outputId": "bf034a4b-5c6b-49c6-fb15-8fec8050f6fb"
      },
      "execution_count": 54,
      "outputs": [
        {
          "output_type": "stream",
          "name": "stdout",
          "text": [
            "😀😆🤣\n"
          ]
        }
      ]
    },
    {
      "cell_type": "code",
      "source": [
        "a=True+4\n",
        "print(a)"
      ],
      "metadata": {
        "colab": {
          "base_uri": "https://localhost:8080/"
        },
        "id": "dYbmeyPDCGnn",
        "outputId": "9a2aa075-63db-461c-973e-99cb7a8630a8"
      },
      "execution_count": 55,
      "outputs": [
        {
          "output_type": "stream",
          "name": "stdout",
          "text": [
            "5\n"
          ]
        }
      ]
    },
    {
      "cell_type": "code",
      "source": [],
      "metadata": {
        "id": "2v_agIRmClFD"
      },
      "execution_count": null,
      "outputs": []
    }
  ]
}