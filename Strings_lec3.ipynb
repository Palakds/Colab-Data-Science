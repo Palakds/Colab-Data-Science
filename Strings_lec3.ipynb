{
  "nbformat": 4,
  "nbformat_minor": 0,
  "metadata": {
    "colab": {
      "provenance": [],
      "authorship_tag": "ABX9TyMyxEm+OJQVVSFuBTE41vC2",
      "include_colab_link": true
    },
    "kernelspec": {
      "name": "python3",
      "display_name": "Python 3"
    },
    "language_info": {
      "name": "python"
    }
  },
  "cells": [
    {
      "cell_type": "markdown",
      "metadata": {
        "id": "view-in-github",
        "colab_type": "text"
      },
      "source": [
        "<a href=\"https://colab.research.google.com/github/Palakds/Palakds/blob/main/Strings_lec3.ipynb\" target=\"_parent\"><img src=\"https://colab.research.google.com/assets/colab-badge.svg\" alt=\"Open In Colab\"/></a>"
      ]
    },
    {
      "cell_type": "markdown",
      "source": [
        "Strings are sequence of Characetrs\n",
        "In python specifically,  strings are a sequence of Unicode Characters.\n",
        "\n",
        "*   Creating Strings\n",
        "\n",
        "*   Accessing Strings\n",
        "\n",
        "*   Adding chars to Strings\n",
        "\n",
        "*   Editing Strings\n",
        "*   Deleting Strings\n",
        "\n",
        "\n",
        "*   Operation on strings\n",
        "\n",
        "\n",
        "*   String Function.\n",
        "\n",
        "\n"
      ],
      "metadata": {
        "id": "32qLcr86EqUa"
      }
    },
    {
      "cell_type": "markdown",
      "source": [
        "##Creating string"
      ],
      "metadata": {
        "id": "pj1JJGQE2ER5"
      }
    },
    {
      "cell_type": "code",
      "execution_count": 5,
      "metadata": {
        "id": "pe20azEl9yh_",
        "colab": {
          "base_uri": "https://localhost:8080/"
        },
        "outputId": "21c3096c-ec21-4f11-b0cd-023c8773329c"
      },
      "outputs": [
        {
          "output_type": "stream",
          "name": "stdout",
          "text": [
            "hello\n"
          ]
        }
      ],
      "source": [
        "s = 'hello'\n",
        "s = \"hello\"\n",
        "# for multiline string\n",
        "s = '''hello'''\n",
        "s=\"\"\"hello\"\"\"\n",
        "s=str('hello')\n",
        "print(s)"
      ]
    },
    {
      "cell_type": "markdown",
      "source": [
        "Accessing Substring from a String"
      ],
      "metadata": {
        "id": "XmAKSyLh2geP"
      }
    },
    {
      "cell_type": "code",
      "source": [
        "# Positive Indexing\n",
        "s='hello world'\n",
        "print(s[6])"
      ],
      "metadata": {
        "colab": {
          "base_uri": "https://localhost:8080/"
        },
        "id": "lfko9il13i9Y",
        "outputId": "f782360f-ac95-477b-ed64-b731ea2a7055"
      },
      "execution_count": 7,
      "outputs": [
        {
          "output_type": "stream",
          "name": "stdout",
          "text": [
            "w\n"
          ]
        }
      ]
    },
    {
      "cell_type": "code",
      "source": [
        "#Negative indexing\n",
        "s = 'hello world'\n",
        "print(s[-1])"
      ],
      "metadata": {
        "colab": {
          "base_uri": "https://localhost:8080/"
        },
        "id": "bDEvP22N32ew",
        "outputId": "839c2c45-6f9f-489e-a209-817f37e21cc3"
      },
      "execution_count": 8,
      "outputs": [
        {
          "output_type": "stream",
          "name": "stdout",
          "text": [
            "d\n"
          ]
        }
      ]
    },
    {
      "cell_type": "code",
      "source": [
        "#slicing\n",
        "s='hello world'\n",
        "print(s[0:5])"
      ],
      "metadata": {
        "colab": {
          "base_uri": "https://localhost:8080/"
        },
        "id": "th4QSYeW4Pz8",
        "outputId": "e74ec418-9e53-4c71-973c-dc2c7736c811"
      },
      "execution_count": 9,
      "outputs": [
        {
          "output_type": "stream",
          "name": "stdout",
          "text": [
            "hello\n"
          ]
        }
      ]
    },
    {
      "cell_type": "code",
      "source": [
        "#slicing\n",
        "s='hello world'\n",
        "print(s[2:])"
      ],
      "metadata": {
        "colab": {
          "base_uri": "https://localhost:8080/"
        },
        "id": "uOKu2HeV4btW",
        "outputId": "b4ee764b-8242-439b-a02f-d4060c3ff0a9"
      },
      "execution_count": 11,
      "outputs": [
        {
          "output_type": "stream",
          "name": "stdout",
          "text": [
            "llo world\n"
          ]
        }
      ]
    },
    {
      "cell_type": "code",
      "source": [
        "#slicing\n",
        "s='hello world'\n",
        "print(s[0:6:2])"
      ],
      "metadata": {
        "colab": {
          "base_uri": "https://localhost:8080/"
        },
        "id": "gJ4334qm4sEr",
        "outputId": "cbe857e4-17ac-4fb8-8c40-5710bc6d306d"
      },
      "execution_count": 12,
      "outputs": [
        {
          "output_type": "stream",
          "name": "stdout",
          "text": [
            "hlo\n"
          ]
        }
      ]
    },
    {
      "cell_type": "code",
      "source": [
        "#slicing\n",
        "s='hello world'\n",
        "print(s[6:0:-2])"
      ],
      "metadata": {
        "colab": {
          "base_uri": "https://localhost:8080/"
        },
        "id": "LCOm9Uc75Iwz",
        "outputId": "31f7fa57-ff20-4e3b-bebe-3576fcb5ee28"
      },
      "execution_count": 13,
      "outputs": [
        {
          "output_type": "stream",
          "name": "stdout",
          "text": [
            "wol\n"
          ]
        }
      ]
    },
    {
      "cell_type": "code",
      "source": [
        "print(s[::-1])"
      ],
      "metadata": {
        "colab": {
          "base_uri": "https://localhost:8080/"
        },
        "id": "JnruXobL5Pl8",
        "outputId": "64a106b8-891f-4b1b-ffdc-b6c682c6b6ba"
      },
      "execution_count": 14,
      "outputs": [
        {
          "output_type": "stream",
          "name": "stdout",
          "text": [
            "dlrow olleh\n"
          ]
        }
      ]
    },
    {
      "cell_type": "code",
      "source": [
        "s='hello world'\n",
        "print(s[-5:])"
      ],
      "metadata": {
        "colab": {
          "base_uri": "https://localhost:8080/"
        },
        "id": "JOtLYvp_5WRs",
        "outputId": "bc1eefde-8d91-4665-8edd-08c49dee3a5a"
      },
      "execution_count": 17,
      "outputs": [
        {
          "output_type": "stream",
          "name": "stdout",
          "text": [
            "world\n"
          ]
        }
      ]
    },
    {
      "cell_type": "code",
      "source": [
        "s='hello world'\n",
        "print(s[-1:-6:-1])"
      ],
      "metadata": {
        "colab": {
          "base_uri": "https://localhost:8080/"
        },
        "id": "1z_DTQKm5hqK",
        "outputId": "08bcdc31-6ad8-4050-9004-eac7472ce168"
      },
      "execution_count": 18,
      "outputs": [
        {
          "output_type": "stream",
          "name": "stdout",
          "text": [
            "dlrow\n"
          ]
        }
      ]
    },
    {
      "cell_type": "markdown",
      "source": [
        "#Editing and Deleting in Strings"
      ],
      "metadata": {
        "id": "zIVkaj-64BPH"
      }
    },
    {
      "cell_type": "code",
      "source": [
        "s='hello world'\n",
        "s[0]='H'\n",
        "print(s)  #you can change string ek baar bann gaya toh bann gaya\n",
        "#Python strings are immutable"
      ],
      "metadata": {
        "colab": {
          "base_uri": "https://localhost:8080/",
          "height": 210
        },
        "id": "xeA0mO6C4EZg",
        "outputId": "9f07ce9c-e35d-4a44-894c-84eb2660b03a"
      },
      "execution_count": 20,
      "outputs": [
        {
          "output_type": "error",
          "ename": "TypeError",
          "evalue": "'str' object does not support item assignment",
          "traceback": [
            "\u001b[0;31m---------------------------------------------------------------------------\u001b[0m",
            "\u001b[0;31mTypeError\u001b[0m                                 Traceback (most recent call last)",
            "\u001b[0;32m<ipython-input-20-89968fa2e0cc>\u001b[0m in \u001b[0;36m<cell line: 2>\u001b[0;34m()\u001b[0m\n\u001b[1;32m      1\u001b[0m \u001b[0ms\u001b[0m\u001b[0;34m=\u001b[0m\u001b[0;34m'hello world'\u001b[0m\u001b[0;34m\u001b[0m\u001b[0;34m\u001b[0m\u001b[0m\n\u001b[0;32m----> 2\u001b[0;31m \u001b[0ms\u001b[0m\u001b[0;34m[\u001b[0m\u001b[0;36m0\u001b[0m\u001b[0;34m]\u001b[0m\u001b[0;34m=\u001b[0m\u001b[0;34m'H'\u001b[0m\u001b[0;34m\u001b[0m\u001b[0;34m\u001b[0m\u001b[0m\n\u001b[0m\u001b[1;32m      3\u001b[0m \u001b[0mprint\u001b[0m\u001b[0;34m(\u001b[0m\u001b[0ms\u001b[0m\u001b[0;34m)\u001b[0m\u001b[0;34m\u001b[0m\u001b[0;34m\u001b[0m\u001b[0m\n",
            "\u001b[0;31mTypeError\u001b[0m: 'str' object does not support item assignment"
          ]
        }
      ]
    },
    {
      "cell_type": "code",
      "source": [
        "s='hello world'\n",
        "del s\n",
        "print(s)"
      ],
      "metadata": {
        "colab": {
          "base_uri": "https://localhost:8080/",
          "height": 210
        },
        "id": "CGO2k9Rm7K8R",
        "outputId": "ce7cede7-b3b0-4a28-d68a-2190a95f9df4"
      },
      "execution_count": 21,
      "outputs": [
        {
          "output_type": "error",
          "ename": "NameError",
          "evalue": "name 's' is not defined",
          "traceback": [
            "\u001b[0;31m---------------------------------------------------------------------------\u001b[0m",
            "\u001b[0;31mNameError\u001b[0m                                 Traceback (most recent call last)",
            "\u001b[0;32m<ipython-input-21-ec135c287dec>\u001b[0m in \u001b[0;36m<cell line: 3>\u001b[0;34m()\u001b[0m\n\u001b[1;32m      1\u001b[0m \u001b[0ms\u001b[0m\u001b[0;34m=\u001b[0m\u001b[0;34m'hello world'\u001b[0m\u001b[0;34m\u001b[0m\u001b[0;34m\u001b[0m\u001b[0m\n\u001b[1;32m      2\u001b[0m \u001b[0;32mdel\u001b[0m \u001b[0ms\u001b[0m\u001b[0;34m\u001b[0m\u001b[0;34m\u001b[0m\u001b[0m\n\u001b[0;32m----> 3\u001b[0;31m \u001b[0mprint\u001b[0m\u001b[0;34m(\u001b[0m\u001b[0ms\u001b[0m\u001b[0;34m)\u001b[0m\u001b[0;34m\u001b[0m\u001b[0;34m\u001b[0m\u001b[0m\n\u001b[0m",
            "\u001b[0;31mNameError\u001b[0m: name 's' is not defined"
          ]
        }
      ]
    },
    {
      "cell_type": "code",
      "source": [
        "s='hello world'\n",
        "del s[-1:5:2]\n",
        "print(s)\n",
        "#since string is immutable"
      ],
      "metadata": {
        "colab": {
          "base_uri": "https://localhost:8080/",
          "height": 210
        },
        "id": "KRjt2X-x8KKi",
        "outputId": "6028c375-d403-4659-e454-38418f8f95bf"
      },
      "execution_count": 22,
      "outputs": [
        {
          "output_type": "error",
          "ename": "TypeError",
          "evalue": "'str' object does not support item deletion",
          "traceback": [
            "\u001b[0;31m---------------------------------------------------------------------------\u001b[0m",
            "\u001b[0;31mTypeError\u001b[0m                                 Traceback (most recent call last)",
            "\u001b[0;32m<ipython-input-22-990d021d9878>\u001b[0m in \u001b[0;36m<cell line: 2>\u001b[0;34m()\u001b[0m\n\u001b[1;32m      1\u001b[0m \u001b[0ms\u001b[0m\u001b[0;34m=\u001b[0m\u001b[0;34m'hello world'\u001b[0m\u001b[0;34m\u001b[0m\u001b[0;34m\u001b[0m\u001b[0m\n\u001b[0;32m----> 2\u001b[0;31m \u001b[0;32mdel\u001b[0m \u001b[0ms\u001b[0m\u001b[0;34m[\u001b[0m\u001b[0;34m-\u001b[0m\u001b[0;36m1\u001b[0m\u001b[0;34m:\u001b[0m\u001b[0;36m5\u001b[0m\u001b[0;34m:\u001b[0m\u001b[0;36m2\u001b[0m\u001b[0;34m]\u001b[0m\u001b[0;34m\u001b[0m\u001b[0;34m\u001b[0m\u001b[0m\n\u001b[0m\u001b[1;32m      3\u001b[0m \u001b[0mprint\u001b[0m\u001b[0;34m(\u001b[0m\u001b[0ms\u001b[0m\u001b[0;34m)\u001b[0m\u001b[0;34m\u001b[0m\u001b[0;34m\u001b[0m\u001b[0m\n",
            "\u001b[0;31mTypeError\u001b[0m: 'str' object does not support item deletion"
          ]
        }
      ]
    },
    {
      "cell_type": "markdown",
      "source": [
        "## Operations on Strings\n",
        "\n",
        "\n",
        "*   Arithmetic Operations\n",
        "\n",
        "*   Relational Operations\n",
        "*   Logical operations\n",
        "\n",
        "*   Loops on Strings\n",
        "*   Memebership operations\n",
        "\n"
      ],
      "metadata": {
        "id": "Y3Z_KCnO7FC2"
      }
    },
    {
      "cell_type": "code",
      "source": [
        "print('delhi'+' '+'mumbai')"
      ],
      "metadata": {
        "colab": {
          "base_uri": "https://localhost:8080/"
        },
        "id": "YR15PWnX9GDj",
        "outputId": "b7fce442-7e4a-4eb0-e326-7e3f716c8924"
      },
      "execution_count": 24,
      "outputs": [
        {
          "output_type": "stream",
          "name": "stdout",
          "text": [
            "delhi mumbai\n"
          ]
        }
      ]
    },
    {
      "cell_type": "code",
      "source": [
        "print('delhi'*5)"
      ],
      "metadata": {
        "colab": {
          "base_uri": "https://localhost:8080/"
        },
        "id": "IHHFEdKJ9Lvr",
        "outputId": "a6392433-e541-4be5-a449-1e9901d33c32"
      },
      "execution_count": 25,
      "outputs": [
        {
          "output_type": "stream",
          "name": "stdout",
          "text": [
            "delhidelhidelhidelhidelhi\n"
          ]
        }
      ]
    },
    {
      "cell_type": "code",
      "source": [
        "print(\"*\"*50)"
      ],
      "metadata": {
        "colab": {
          "base_uri": "https://localhost:8080/"
        },
        "id": "36zdf7S09Lxq",
        "outputId": "cf4cc8ef-fc1a-4882-ff4d-ba79c31c6ae0"
      },
      "execution_count": 26,
      "outputs": [
        {
          "output_type": "stream",
          "name": "stdout",
          "text": [
            "**************************************************\n"
          ]
        }
      ]
    },
    {
      "cell_type": "code",
      "source": [
        "'delhi'=='mumbai'"
      ],
      "metadata": {
        "colab": {
          "base_uri": "https://localhost:8080/"
        },
        "id": "Tim_Vay09Lzh",
        "outputId": "00ff42d3-9207-42b3-cd2c-14d3e443b957"
      },
      "execution_count": 27,
      "outputs": [
        {
          "output_type": "execute_result",
          "data": {
            "text/plain": [
              "False"
            ]
          },
          "metadata": {},
          "execution_count": 27
        }
      ]
    },
    {
      "cell_type": "code",
      "source": [
        "'delhi' != 'pune'"
      ],
      "metadata": {
        "colab": {
          "base_uri": "https://localhost:8080/"
        },
        "id": "F7lHc0xj9L1g",
        "outputId": "9e7fce27-b1b8-4900-baa0-e6b23d3508e7"
      },
      "execution_count": 28,
      "outputs": [
        {
          "output_type": "execute_result",
          "data": {
            "text/plain": [
              "True"
            ]
          },
          "metadata": {},
          "execution_count": 28
        }
      ]
    },
    {
      "cell_type": "code",
      "source": [
        "'mumbal' > 'pune'\n",
        "#lexiographically jo pehle aayega in oxford dictionary (ascii chart)"
      ],
      "metadata": {
        "colab": {
          "base_uri": "https://localhost:8080/"
        },
        "id": "g3Bn_Cn39L43",
        "outputId": "c446bd3a-cb6a-43c5-c7a5-b538fdfe9117"
      },
      "execution_count": 29,
      "outputs": [
        {
          "output_type": "execute_result",
          "data": {
            "text/plain": [
              "False"
            ]
          },
          "metadata": {},
          "execution_count": 29
        }
      ]
    },
    {
      "cell_type": "code",
      "source": [
        "'helo' and 'world'"
      ],
      "metadata": {
        "colab": {
          "base_uri": "https://localhost:8080/",
          "height": 36
        },
        "id": "H4lLP_wN9MAT",
        "outputId": "1b1576f3-8039-4c47-a574-cb7972aa7e0d"
      },
      "execution_count": 30,
      "outputs": [
        {
          "output_type": "execute_result",
          "data": {
            "text/plain": [
              "'world'"
            ],
            "application/vnd.google.colaboratory.intrinsic+json": {
              "type": "string"
            }
          },
          "metadata": {},
          "execution_count": 30
        }
      ]
    },
    {
      "cell_type": "code",
      "source": [
        "'hello' or 'world'"
      ],
      "metadata": {
        "colab": {
          "base_uri": "https://localhost:8080/",
          "height": 36
        },
        "id": "n5y3ZMja-Vfz",
        "outputId": "838bfa86-6299-4955-ac20-d5c983c58910"
      },
      "execution_count": 31,
      "outputs": [
        {
          "output_type": "execute_result",
          "data": {
            "text/plain": [
              "'hello'"
            ],
            "application/vnd.google.colaboratory.intrinsic+json": {
              "type": "string"
            }
          },
          "metadata": {},
          "execution_count": 31
        }
      ]
    },
    {
      "cell_type": "code",
      "source": [
        "'' and 'world'"
      ],
      "metadata": {
        "colab": {
          "base_uri": "https://localhost:8080/",
          "height": 36
        },
        "id": "worrZaAF-VjS",
        "outputId": "c13d04aa-bafc-4b86-98eb-0df9fbbab3ce"
      },
      "execution_count": 32,
      "outputs": [
        {
          "output_type": "execute_result",
          "data": {
            "text/plain": [
              "''"
            ],
            "application/vnd.google.colaboratory.intrinsic+json": {
              "type": "string"
            }
          },
          "metadata": {},
          "execution_count": 32
        }
      ]
    },
    {
      "cell_type": "code",
      "source": [
        "'' or 'world'"
      ],
      "metadata": {
        "colab": {
          "base_uri": "https://localhost:8080/",
          "height": 36
        },
        "id": "hqMul6d5-Vls",
        "outputId": "e40e262d-7475-4b07-cf67-538c521b9762"
      },
      "execution_count": 34,
      "outputs": [
        {
          "output_type": "execute_result",
          "data": {
            "text/plain": [
              "'world'"
            ],
            "application/vnd.google.colaboratory.intrinsic+json": {
              "type": "string"
            }
          },
          "metadata": {},
          "execution_count": 34
        }
      ]
    },
    {
      "cell_type": "code",
      "source": [
        "not 'hello'"
      ],
      "metadata": {
        "colab": {
          "base_uri": "https://localhost:8080/"
        },
        "id": "LumtnlFr-Vnf",
        "outputId": "9056f83f-c198-445b-ce97-fbea1064c039"
      },
      "execution_count": 35,
      "outputs": [
        {
          "output_type": "execute_result",
          "data": {
            "text/plain": [
              "False"
            ]
          },
          "metadata": {},
          "execution_count": 35
        }
      ]
    },
    {
      "cell_type": "code",
      "source": [
        "for i in 'hello':\n",
        "  print(i)"
      ],
      "metadata": {
        "colab": {
          "base_uri": "https://localhost:8080/"
        },
        "id": "VYjW7uM6-VpZ",
        "outputId": "b87065f9-d665-4b34-beeb-32082a069630"
      },
      "execution_count": 36,
      "outputs": [
        {
          "output_type": "stream",
          "name": "stdout",
          "text": [
            "h\n",
            "e\n",
            "l\n",
            "l\n",
            "o\n"
          ]
        }
      ]
    },
    {
      "cell_type": "code",
      "source": [
        "for i in 'delhi':\n",
        "  print('pune')"
      ],
      "metadata": {
        "colab": {
          "base_uri": "https://localhost:8080/"
        },
        "id": "8-k6tkvx-VrN",
        "outputId": "98b31354-d49d-46d6-a998-9228f08b3926"
      },
      "execution_count": 37,
      "outputs": [
        {
          "output_type": "stream",
          "name": "stdout",
          "text": [
            "pune\n",
            "pune\n",
            "pune\n",
            "pune\n",
            "pune\n"
          ]
        }
      ]
    },
    {
      "cell_type": "code",
      "source": [
        "'D' in 'Delhi'"
      ],
      "metadata": {
        "colab": {
          "base_uri": "https://localhost:8080/"
        },
        "id": "AjRpKJ-F-Vtt",
        "outputId": "2e5e0c3b-0265-4bc3-e114-b15159ef436e"
      },
      "execution_count": 38,
      "outputs": [
        {
          "output_type": "execute_result",
          "data": {
            "text/plain": [
              "True"
            ]
          },
          "metadata": {},
          "execution_count": 38
        }
      ]
    },
    {
      "cell_type": "markdown",
      "source": [
        "## Coomon Strings\n",
        "\n",
        "\n",
        "*  len\n",
        "\n",
        "*   max\n",
        "*   min\n",
        "\n",
        "\n",
        "*  sorted\n"
      ],
      "metadata": {
        "id": "sWbRwCc7Hqp1"
      }
    },
    {
      "cell_type": "code",
      "source": [
        "len('hello world')"
      ],
      "metadata": {
        "colab": {
          "base_uri": "https://localhost:8080/"
        },
        "id": "2wFiaJv6-Vvi",
        "outputId": "7177f382-cb01-43e2-bc80-1f4f91b1a46f"
      },
      "execution_count": 39,
      "outputs": [
        {
          "output_type": "execute_result",
          "data": {
            "text/plain": [
              "11"
            ]
          },
          "metadata": {},
          "execution_count": 39
        }
      ]
    },
    {
      "cell_type": "code",
      "source": [
        "max('hello world')"
      ],
      "metadata": {
        "colab": {
          "base_uri": "https://localhost:8080/",
          "height": 36
        },
        "id": "9VBRtCRxH-82",
        "outputId": "546bce3c-44a7-45b6-de35-e54ad7b1924a"
      },
      "execution_count": 40,
      "outputs": [
        {
          "output_type": "execute_result",
          "data": {
            "text/plain": [
              "'w'"
            ],
            "application/vnd.google.colaboratory.intrinsic+json": {
              "type": "string"
            }
          },
          "metadata": {},
          "execution_count": 40
        }
      ]
    },
    {
      "cell_type": "code",
      "source": [
        "min('hello world')  #space minimum ascii table"
      ],
      "metadata": {
        "colab": {
          "base_uri": "https://localhost:8080/",
          "height": 36
        },
        "id": "wUd03DOOH86k",
        "outputId": "5904f6b4-858c-4dd3-829a-a6ebff57be42"
      },
      "execution_count": 41,
      "outputs": [
        {
          "output_type": "execute_result",
          "data": {
            "text/plain": [
              "' '"
            ],
            "application/vnd.google.colaboratory.intrinsic+json": {
              "type": "string"
            }
          },
          "metadata": {},
          "execution_count": 41
        }
      ]
    },
    {
      "cell_type": "code",
      "source": [
        "sorted('hello world')  #output is list"
      ],
      "metadata": {
        "colab": {
          "base_uri": "https://localhost:8080/"
        },
        "id": "2B39PGuxH88t",
        "outputId": "3833ee11-82dd-4a93-db21-300200e9bc55"
      },
      "execution_count": 42,
      "outputs": [
        {
          "output_type": "execute_result",
          "data": {
            "text/plain": [
              "[' ', 'd', 'e', 'h', 'l', 'l', 'l', 'o', 'o', 'r', 'w']"
            ]
          },
          "metadata": {},
          "execution_count": 42
        }
      ]
    },
    {
      "cell_type": "code",
      "source": [
        "sorted('hello world', reverse = True)"
      ],
      "metadata": {
        "colab": {
          "base_uri": "https://localhost:8080/"
        },
        "id": "Nd2rwIP2H8-8",
        "outputId": "7efc2809-5174-4da5-887c-9618a0a9f7dc"
      },
      "execution_count": 43,
      "outputs": [
        {
          "output_type": "execute_result",
          "data": {
            "text/plain": [
              "['w', 'r', 'o', 'o', 'l', 'l', 'l', 'h', 'e', 'd', ' ']"
            ]
          },
          "metadata": {},
          "execution_count": 43
        }
      ]
    },
    {
      "cell_type": "markdown",
      "source": [
        "### Capitalize/ title/ uppper/ lower/ subspace"
      ],
      "metadata": {
        "id": "8uqFfQI8IcAm"
      }
    },
    {
      "cell_type": "code",
      "source": [
        "s = 'hello world'\n",
        "s.capitalize()"
      ],
      "metadata": {
        "colab": {
          "base_uri": "https://localhost:8080/",
          "height": 36
        },
        "id": "7Yl1T8dsH9BX",
        "outputId": "1f3c09a9-36d6-4a39-8578-382fc5d7efd3"
      },
      "execution_count": 44,
      "outputs": [
        {
          "output_type": "execute_result",
          "data": {
            "text/plain": [
              "'Hello world'"
            ],
            "application/vnd.google.colaboratory.intrinsic+json": {
              "type": "string"
            }
          },
          "metadata": {},
          "execution_count": 44
        }
      ]
    },
    {
      "cell_type": "code",
      "source": [
        "s='hello world'\n",
        "s.title()"
      ],
      "metadata": {
        "colab": {
          "base_uri": "https://localhost:8080/",
          "height": 36
        },
        "id": "QT-AOt1cH9Dr",
        "outputId": "bfcac5e4-874a-45cc-fb6b-9b0b95f9e0e3"
      },
      "execution_count": 45,
      "outputs": [
        {
          "output_type": "execute_result",
          "data": {
            "text/plain": [
              "'Hello World'"
            ],
            "application/vnd.google.colaboratory.intrinsic+json": {
              "type": "string"
            }
          },
          "metadata": {},
          "execution_count": 45
        }
      ]
    },
    {
      "cell_type": "code",
      "source": [
        "s.upper()"
      ],
      "metadata": {
        "colab": {
          "base_uri": "https://localhost:8080/",
          "height": 36
        },
        "id": "5EmW1jO8H9F0",
        "outputId": "704819eb-1f69-42d3-b360-aef055a456a1"
      },
      "execution_count": 46,
      "outputs": [
        {
          "output_type": "execute_result",
          "data": {
            "text/plain": [
              "'HELLO WORLD'"
            ],
            "application/vnd.google.colaboratory.intrinsic+json": {
              "type": "string"
            }
          },
          "metadata": {},
          "execution_count": 46
        }
      ]
    },
    {
      "cell_type": "code",
      "source": [
        "s.lower()"
      ],
      "metadata": {
        "colab": {
          "base_uri": "https://localhost:8080/",
          "height": 36
        },
        "id": "Dsgt9rX5H9IM",
        "outputId": "eaf39c74-0ef7-451b-dca4-b0aae8123622"
      },
      "execution_count": 47,
      "outputs": [
        {
          "output_type": "execute_result",
          "data": {
            "text/plain": [
              "'hello world'"
            ],
            "application/vnd.google.colaboratory.intrinsic+json": {
              "type": "string"
            }
          },
          "metadata": {},
          "execution_count": 47
        }
      ]
    },
    {
      "cell_type": "code",
      "source": [
        "'Hello World'.swapcase()"
      ],
      "metadata": {
        "colab": {
          "base_uri": "https://localhost:8080/",
          "height": 36
        },
        "id": "pTZVNHnd-VzB",
        "outputId": "b9611dfd-a8c4-440a-e3c3-f41f43681587"
      },
      "execution_count": 48,
      "outputs": [
        {
          "output_type": "execute_result",
          "data": {
            "text/plain": [
              "'hELLO wORLD'"
            ],
            "application/vnd.google.colaboratory.intrinsic+json": {
              "type": "string"
            }
          },
          "metadata": {},
          "execution_count": 48
        }
      ]
    },
    {
      "cell_type": "markdown",
      "source": [
        "## Count/ find / index"
      ],
      "metadata": {
        "id": "nS2t-HaVJAGr"
      }
    },
    {
      "cell_type": "code",
      "source": [
        "'My name is palak'.count('a')"
      ],
      "metadata": {
        "colab": {
          "base_uri": "https://localhost:8080/"
        },
        "id": "BBWB7qN-9MDq",
        "outputId": "ba2304bb-f122-4cc3-81bb-a36d733bc3da"
      },
      "execution_count": 50,
      "outputs": [
        {
          "output_type": "execute_result",
          "data": {
            "text/plain": [
              "3"
            ]
          },
          "metadata": {},
          "execution_count": 50
        }
      ]
    },
    {
      "cell_type": "code",
      "source": [
        "'My name is palak'.find('is')"
      ],
      "metadata": {
        "colab": {
          "base_uri": "https://localhost:8080/"
        },
        "id": "CgiWOAB6JFSi",
        "outputId": "ab4c6ab1-eca1-4233-b19d-618f89940a6c"
      },
      "execution_count": 52,
      "outputs": [
        {
          "output_type": "execute_result",
          "data": {
            "text/plain": [
              "8"
            ]
          },
          "metadata": {},
          "execution_count": 52
        }
      ]
    },
    {
      "cell_type": "code",
      "source": [
        "'My name is palak'.find('x')"
      ],
      "metadata": {
        "colab": {
          "base_uri": "https://localhost:8080/"
        },
        "id": "rjHsnKB5JMoR",
        "outputId": "617b41e0-e0ba-493a-c42f-c923b0941187"
      },
      "execution_count": 54,
      "outputs": [
        {
          "output_type": "execute_result",
          "data": {
            "text/plain": [
              "-1"
            ]
          },
          "metadata": {},
          "execution_count": 54
        }
      ]
    },
    {
      "cell_type": "code",
      "source": [
        "'My name is palak'.index('x')  #error"
      ],
      "metadata": {
        "colab": {
          "base_uri": "https://localhost:8080/",
          "height": 175
        },
        "id": "CAEz8c6LJPgY",
        "outputId": "790a7aa7-c353-42cc-e5b2-628c308997af"
      },
      "execution_count": 55,
      "outputs": [
        {
          "output_type": "error",
          "ename": "ValueError",
          "evalue": "substring not found",
          "traceback": [
            "\u001b[0;31m---------------------------------------------------------------------------\u001b[0m",
            "\u001b[0;31mValueError\u001b[0m                                Traceback (most recent call last)",
            "\u001b[0;32m<ipython-input-55-178ef8614e01>\u001b[0m in \u001b[0;36m<cell line: 1>\u001b[0;34m()\u001b[0m\n\u001b[0;32m----> 1\u001b[0;31m \u001b[0;34m'My name is palak'\u001b[0m\u001b[0;34m.\u001b[0m\u001b[0mindex\u001b[0m\u001b[0;34m(\u001b[0m\u001b[0;34m'x'\u001b[0m\u001b[0;34m)\u001b[0m  \u001b[0;31m#error\u001b[0m\u001b[0;34m\u001b[0m\u001b[0;34m\u001b[0m\u001b[0m\n\u001b[0m",
            "\u001b[0;31mValueError\u001b[0m: substring not found"
          ]
        }
      ]
    },
    {
      "cell_type": "markdown",
      "source": [
        "## endswith/startswith"
      ],
      "metadata": {
        "id": "Dx4GlsPwJmBV"
      }
    },
    {
      "cell_type": "code",
      "source": [
        "'My name is palak'.endswith('my')"
      ],
      "metadata": {
        "colab": {
          "base_uri": "https://localhost:8080/"
        },
        "id": "Gp1aCXp3JPit",
        "outputId": "165d2efb-b101-45de-d4cd-32e8f5609a5a"
      },
      "execution_count": 56,
      "outputs": [
        {
          "output_type": "execute_result",
          "data": {
            "text/plain": [
              "False"
            ]
          },
          "metadata": {},
          "execution_count": 56
        }
      ]
    },
    {
      "cell_type": "code",
      "source": [
        "'My name is palak'.startswith('My')"
      ],
      "metadata": {
        "colab": {
          "base_uri": "https://localhost:8080/"
        },
        "id": "1LNgLMT5JPlK",
        "outputId": "69130fc4-4bef-46e6-a3ba-a85ef3ad3faa"
      },
      "execution_count": 57,
      "outputs": [
        {
          "output_type": "execute_result",
          "data": {
            "text/plain": [
              "True"
            ]
          },
          "metadata": {},
          "execution_count": 57
        }
      ]
    },
    {
      "cell_type": "markdown",
      "source": [
        "##format"
      ],
      "metadata": {
        "id": "BWR87jlvJ0xq"
      }
    },
    {
      "cell_type": "code",
      "source": [
        "name = 'palak'\n",
        "gender = 'female'\n",
        "'Hi my name is {} and I am a {}'.format(name,gender)\n"
      ],
      "metadata": {
        "colab": {
          "base_uri": "https://localhost:8080/",
          "height": 36
        },
        "id": "KopK7fkeJPn1",
        "outputId": "10b836f4-5def-4b8a-c34b-e0cd5bf90d0f"
      },
      "execution_count": 58,
      "outputs": [
        {
          "output_type": "execute_result",
          "data": {
            "text/plain": [
              "'Hi my name is palak and I am a female'"
            ],
            "application/vnd.google.colaboratory.intrinsic+json": {
              "type": "string"
            }
          },
          "metadata": {},
          "execution_count": 58
        }
      ]
    },
    {
      "cell_type": "markdown",
      "source": [
        "## isalnum/isalpha/isdigit/isidentifier"
      ],
      "metadata": {
        "id": "XVJiVKdAK9dt"
      }
    },
    {
      "cell_type": "code",
      "source": [
        "'palak1234'.isalnum()  #alpha numeric"
      ],
      "metadata": {
        "colab": {
          "base_uri": "https://localhost:8080/"
        },
        "id": "GcCa-9tpJ271",
        "outputId": "03454d32-dd8a-40a2-fba7-d6be01df66f6"
      },
      "execution_count": 59,
      "outputs": [
        {
          "output_type": "execute_result",
          "data": {
            "text/plain": [
              "True"
            ]
          },
          "metadata": {},
          "execution_count": 59
        }
      ]
    },
    {
      "cell_type": "code",
      "source": [
        "'palak1234'.isalpha()"
      ],
      "metadata": {
        "colab": {
          "base_uri": "https://localhost:8080/"
        },
        "id": "blC5i71tJ2-M",
        "outputId": "d63347f7-0956-48ef-f65f-4af06a09e42c"
      },
      "execution_count": 60,
      "outputs": [
        {
          "output_type": "execute_result",
          "data": {
            "text/plain": [
              "False"
            ]
          },
          "metadata": {},
          "execution_count": 60
        }
      ]
    },
    {
      "cell_type": "code",
      "source": [
        "'1234'.isdigit()"
      ],
      "metadata": {
        "colab": {
          "base_uri": "https://localhost:8080/"
        },
        "id": "qeP8Oj3XJ3BU",
        "outputId": "cb12bfed-4e3f-41fd-c2a8-c1a51a3094da"
      },
      "execution_count": 61,
      "outputs": [
        {
          "output_type": "execute_result",
          "data": {
            "text/plain": [
              "True"
            ]
          },
          "metadata": {},
          "execution_count": 61
        }
      ]
    },
    {
      "cell_type": "code",
      "source": [
        "'1name'.isidentifier()"
      ],
      "metadata": {
        "colab": {
          "base_uri": "https://localhost:8080/"
        },
        "id": "18xmZB9LJ3Di",
        "outputId": "26e21b73-ccba-49b9-f96c-f778b8d1a769"
      },
      "execution_count": 62,
      "outputs": [
        {
          "output_type": "execute_result",
          "data": {
            "text/plain": [
              "False"
            ]
          },
          "metadata": {},
          "execution_count": 62
        }
      ]
    },
    {
      "cell_type": "code",
      "source": [
        "'name_palak'.isidentifier()"
      ],
      "metadata": {
        "colab": {
          "base_uri": "https://localhost:8080/"
        },
        "id": "zwKeXEgLJ3Fd",
        "outputId": "f4416f89-d5e2-4f2a-836f-8743ad919515"
      },
      "execution_count": 63,
      "outputs": [
        {
          "output_type": "execute_result",
          "data": {
            "text/plain": [
              "True"
            ]
          },
          "metadata": {},
          "execution_count": 63
        }
      ]
    },
    {
      "cell_type": "markdown",
      "source": [
        "## Split / Join"
      ],
      "metadata": {
        "id": "jkVI3hf1LanY"
      }
    },
    {
      "cell_type": "code",
      "source": [
        "'Hi my name is palak'.split()"
      ],
      "metadata": {
        "colab": {
          "base_uri": "https://localhost:8080/"
        },
        "id": "Wcn_G7z4J3Ir",
        "outputId": "73590835-6e51-47be-fbeb-65c4fc7cf4e7"
      },
      "execution_count": 64,
      "outputs": [
        {
          "output_type": "execute_result",
          "data": {
            "text/plain": [
              "['Hi', 'my', 'name', 'is', 'palak']"
            ]
          },
          "metadata": {},
          "execution_count": 64
        }
      ]
    },
    {
      "cell_type": "code",
      "source": [
        "'Hi my name is palak'.split('is')"
      ],
      "metadata": {
        "colab": {
          "base_uri": "https://localhost:8080/"
        },
        "id": "Qt9xhg-7LeVf",
        "outputId": "e6c80e8f-dc89-4d2f-e046-3aecd43884ac"
      },
      "execution_count": 65,
      "outputs": [
        {
          "output_type": "execute_result",
          "data": {
            "text/plain": [
              "['Hi my name ', ' palak']"
            ]
          },
          "metadata": {},
          "execution_count": 65
        }
      ]
    },
    {
      "cell_type": "code",
      "source": [
        "\" \".join(['Hi', 'my', 'name', 'is', 'palak'])\n"
      ],
      "metadata": {
        "colab": {
          "base_uri": "https://localhost:8080/",
          "height": 36
        },
        "id": "50meGd5PLowX",
        "outputId": "c447a3b2-c435-4ec1-82d6-ec69e27e03ce"
      },
      "execution_count": 67,
      "outputs": [
        {
          "output_type": "execute_result",
          "data": {
            "text/plain": [
              "'Hi my name is palak'"
            ],
            "application/vnd.google.colaboratory.intrinsic+json": {
              "type": "string"
            }
          },
          "metadata": {},
          "execution_count": 67
        }
      ]
    },
    {
      "cell_type": "markdown",
      "source": [
        "## Replace"
      ],
      "metadata": {
        "id": "MQeMyu2WL6M2"
      }
    },
    {
      "cell_type": "code",
      "source": [
        "'Hi my name is palak'.replace('palak','gupta')"
      ],
      "metadata": {
        "colab": {
          "base_uri": "https://localhost:8080/",
          "height": 36
        },
        "id": "SQ7PLE3ELpnr",
        "outputId": "1cbd6b8b-694b-493c-8ab4-bc97b2e55fb7"
      },
      "execution_count": 68,
      "outputs": [
        {
          "output_type": "execute_result",
          "data": {
            "text/plain": [
              "'Hi my name is gupta'"
            ],
            "application/vnd.google.colaboratory.intrinsic+json": {
              "type": "string"
            }
          },
          "metadata": {},
          "execution_count": 68
        }
      ]
    },
    {
      "cell_type": "markdown",
      "source": [
        "### Strip"
      ],
      "metadata": {
        "id": "m-NNhEI9MCry"
      }
    },
    {
      "cell_type": "code",
      "source": [
        "'palak                   '.strip()"
      ],
      "metadata": {
        "colab": {
          "base_uri": "https://localhost:8080/",
          "height": 36
        },
        "id": "OSwQGKM4Lpqd",
        "outputId": "503e9d72-8525-4604-b581-0689494d0a1a"
      },
      "execution_count": 69,
      "outputs": [
        {
          "output_type": "execute_result",
          "data": {
            "text/plain": [
              "'palak'"
            ],
            "application/vnd.google.colaboratory.intrinsic+json": {
              "type": "string"
            }
          },
          "metadata": {},
          "execution_count": 69
        }
      ]
    },
    {
      "cell_type": "markdown",
      "source": [
        "### Example Problems"
      ],
      "metadata": {
        "id": "D1wpIF9nNQpS"
      }
    },
    {
      "cell_type": "code",
      "source": [
        "# Find the length of a given string without using the len() function\n",
        "\n",
        "s = input('Enter the string :')\n",
        "counter = 0\n",
        "for i in s:\n",
        "  counter += 1\n",
        "print('length of string',counter)"
      ],
      "metadata": {
        "colab": {
          "base_uri": "https://localhost:8080/"
        },
        "id": "lifR3Y7NLptb",
        "outputId": "2e13e6df-5dda-44be-c65f-afe806be3d4c"
      },
      "execution_count": 72,
      "outputs": [
        {
          "output_type": "stream",
          "name": "stdout",
          "text": [
            "Enter the string :Palak\n",
            "length of string 5\n"
          ]
        }
      ]
    },
    {
      "cell_type": "code",
      "source": [
        "# Extract username from a given email.\n",
        "# Eg if the email is nitish24singh@gmail.com\n",
        "# then the username should be nitish24singh\n",
        "\n",
        "s = input('Enter the email :')\n",
        "pos = s.index('@')\n",
        "print(s[0:pos])"
      ],
      "metadata": {
        "colab": {
          "base_uri": "https://localhost:8080/"
        },
        "id": "GYi6lcRlLpwJ",
        "outputId": "5a68649b-dabf-43c9-d33e-d4bf294f2cb6"
      },
      "execution_count": 78,
      "outputs": [
        {
          "output_type": "stream",
          "name": "stdout",
          "text": [
            "Enter the email :palak@gmail.com\n",
            "palak\n"
          ]
        }
      ]
    },
    {
      "cell_type": "code",
      "source": [
        "# Count the frequency of a particular character in a provided string.\n",
        "# Eg 'hello how are you' is the string, the frequency of h in this string is 2.\n",
        "\n",
        "s = input('Enter the string :')\n",
        "term=input('what would you like to search for :')\n",
        "counter = 0\n",
        "for i in s:\n",
        "  if i == term:\n",
        "    counter +=1\n",
        "print('frequence',counter)\n"
      ],
      "metadata": {
        "colab": {
          "base_uri": "https://localhost:8080/"
        },
        "id": "lXvtzWsnLpzD",
        "outputId": "6271ceb1-9490-4f09-c9ee-880fb2933adf"
      },
      "execution_count": 82,
      "outputs": [
        {
          "output_type": "stream",
          "name": "stdout",
          "text": [
            "Enter the string :hi how are you\n",
            "what would you like to search for :o\n",
            "frequence 2\n"
          ]
        }
      ]
    },
    {
      "cell_type": "code",
      "source": [
        "# Write a program which can remove a particular character from a string.\n",
        "s = input('Enter the string :')\n",
        "term=input('what would you like to remove :')\n",
        "\n",
        "result = ''\n",
        "for i in s:\n",
        "  if i != term:\n",
        "    result = result + i\n",
        "print(result)"
      ],
      "metadata": {
        "colab": {
          "base_uri": "https://localhost:8080/"
        },
        "id": "oEvBN8LNLp1-",
        "outputId": "02799e76-6e46-47f0-bd4f-7ae142096257"
      },
      "execution_count": 86,
      "outputs": [
        {
          "output_type": "stream",
          "name": "stdout",
          "text": [
            "Enter the string :palak\n",
            "what would you like to remove :a\n",
            "plk\n"
          ]
        }
      ]
    },
    {
      "cell_type": "code",
      "source": [
        "# Write a program that can check whether a given string is palindrome or not.\n",
        "# abba\n",
        "# malayalam\n",
        "\n",
        "s = input('Enter the string :')\n",
        "flag = True\n",
        "for i in range(0,len(s)//2):\n",
        "  if s[i] != s[len(s) - i - 1]:\n",
        "    flag = False\n",
        "    print('not a palindrome')\n",
        "    break\n",
        "if flag:\n",
        "  print('Palindrome')\n"
      ],
      "metadata": {
        "colab": {
          "base_uri": "https://localhost:8080/"
        },
        "id": "Fk5kSDSoLp4G",
        "outputId": "2587cc55-4b04-4ddd-d8c7-7def1f88c8d2"
      },
      "execution_count": 87,
      "outputs": [
        {
          "output_type": "stream",
          "name": "stdout",
          "text": [
            "Enter the string :racecar\n",
            "Palindrome\n"
          ]
        }
      ]
    },
    {
      "cell_type": "code",
      "source": [
        "# Write a program to count the number of words in a string without split()\n",
        "\n",
        "s = input('Enter the string :')\n",
        "L=[]\n",
        "temp = ''\n",
        "for i in s:\n",
        "  if i != '':\n",
        "    temp = temp + i\n",
        "  else:\n",
        "    L.append(temp)\n",
        "    temp = ''\n",
        "L.append(temp)\n",
        "print(L)\n",
        "\n",
        "\n"
      ],
      "metadata": {
        "colab": {
          "base_uri": "https://localhost:8080/"
        },
        "id": "nt5wNy1FLp6r",
        "outputId": "9ea4cacc-ec36-4b5a-819c-2cf8187969a5"
      },
      "execution_count": 96,
      "outputs": [
        {
          "output_type": "stream",
          "name": "stdout",
          "text": [
            "Enter the string :hi how are you\n",
            "['hi how are you']\n"
          ]
        }
      ]
    },
    {
      "cell_type": "code",
      "source": [
        "# Write a python program to convert a string to title case without using the title()\n",
        "s = input('Enter the string :')\n",
        "\n",
        "L=[]\n",
        "for i in s.split():\n",
        "  L.append(i[0].upper() + i[1:].lower())\n",
        "print(\" \".join(L))"
      ],
      "metadata": {
        "colab": {
          "base_uri": "https://localhost:8080/"
        },
        "id": "n42vA3MeLp9s",
        "outputId": "406cbc47-1549-43f5-d116-1422c933053f"
      },
      "execution_count": 101,
      "outputs": [
        {
          "output_type": "stream",
          "name": "stdout",
          "text": [
            "Enter the string :hi my nAME is pALAK\n",
            "Hi My Name Is Palak\n"
          ]
        }
      ]
    },
    {
      "cell_type": "code",
      "source": [
        "# Write a program that can convert an integer to string.\n",
        "\n",
        "# str(489)\n",
        "number=int(input('Enter the number :'))\n",
        "digits='0123456789'\n",
        "result = ''\n",
        "while number != 0:\n",
        "  result = digits[number % 10] + result\n",
        "  number = number//10\n",
        "print(result)\n",
        "print(type(result))"
      ],
      "metadata": {
        "colab": {
          "base_uri": "https://localhost:8080/"
        },
        "id": "2QFsoKL6LqAD",
        "outputId": "b76a7672-bb82-435a-c6e2-e93d181853d7"
      },
      "execution_count": 106,
      "outputs": [
        {
          "output_type": "stream",
          "name": "stdout",
          "text": [
            "Enter the number :987\n",
            "987\n",
            "<class 'str'>\n"
          ]
        }
      ]
    }
  ]
}