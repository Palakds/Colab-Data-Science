{
  "nbformat": 4,
  "nbformat_minor": 0,
  "metadata": {
    "colab": {
      "provenance": [],
      "authorship_tag": "ABX9TyOuBUSBX93wx4s5kg3dJ3hj",
      "include_colab_link": true
    },
    "kernelspec": {
      "name": "python3",
      "display_name": "Python 3"
    },
    "language_info": {
      "name": "python"
    }
  },
  "cells": [
    {
      "cell_type": "markdown",
      "metadata": {
        "id": "view-in-github",
        "colab_type": "text"
      },
      "source": [
        "<a href=\"https://colab.research.google.com/github/Palakds/Colab-Data-Science/blob/main/Gradient_Descent_Creating_own_class.ipynb\" target=\"_parent\"><img src=\"https://colab.research.google.com/assets/colab-badge.svg\" alt=\"Open In Colab\"/></a>"
      ]
    },
    {
      "cell_type": "code",
      "execution_count": null,
      "metadata": {
        "id": "_-ybaGR04Zca"
      },
      "outputs": [],
      "source": [
        "from sklearn.datasets import make_regression\n",
        "import matplotlib.pyplot as plt\n",
        "import numpy as np"
      ]
    },
    {
      "cell_type": "code",
      "source": [
        "X,y=make_regression(n_samples=100,n_features=1,n_informative=1,n_targets=1,noise=20)"
      ],
      "metadata": {
        "id": "10gXDv2w4jCo"
      },
      "execution_count": null,
      "outputs": []
    },
    {
      "cell_type": "code",
      "source": [
        "plt.scatter(X,y)"
      ],
      "metadata": {
        "colab": {
          "base_uri": "https://localhost:8080/",
          "height": 447
        },
        "id": "pccTBSE64i_I",
        "outputId": "0cd59f35-8c4c-4ffc-dd2c-f641a025993a"
      },
      "execution_count": null,
      "outputs": [
        {
          "output_type": "execute_result",
          "data": {
            "text/plain": [
              "<matplotlib.collections.PathCollection at 0x7ccae0d0d210>"
            ]
          },
          "metadata": {},
          "execution_count": 19
        },
        {
          "output_type": "display_data",
          "data": {
            "text/plain": [
              "<Figure size 640x480 with 1 Axes>"
            ],
            "image/png": "[encoded data removed]"
          },
          "metadata": {}
        }
      ]
    },
    {
      "cell_type": "code",
      "source": [
        "from sklearn.linear_model import LinearRegression\n"
      ],
      "metadata": {
        "id": "U8DGEpVH4i74"
      },
      "execution_count": null,
      "outputs": []
    },
    {
      "cell_type": "code",
      "source": [
        "lr=LinearRegression()"
      ],
      "metadata": {
        "id": "q5N6lvFa4i5a"
      },
      "execution_count": null,
      "outputs": []
    },
    {
      "cell_type": "code",
      "source": [
        "lr.fit(X,y)\n",
        "print(lr.coef_)\n",
        "print(lr.intercept_)"
      ],
      "metadata": {
        "colab": {
          "base_uri": "https://localhost:8080/"
        },
        "id": "F2UvGWER4i2J",
        "outputId": "f2443e1c-7203-4555-a03a-b29a207c64f9"
      },
      "execution_count": null,
      "outputs": [
        {
          "output_type": "stream",
          "name": "stdout",
          "text": [
            "[57.83371221]\n",
            "1.154960106368132\n"
          ]
        }
      ]
    },
    {
      "cell_type": "code",
      "source": [
        "m=57.83"
      ],
      "metadata": {
        "id": "1GOcsSsk4iyl"
      },
      "execution_count": null,
      "outputs": []
    },
    {
      "cell_type": "code",
      "source": [
        "class GDRegressor:\n",
        "  def __init__(self,learning_rate,epochs):\n",
        "    self.m=57.83\n",
        "    self.b=-120\n",
        "    self.lr=learning_rate\n",
        "    self.epochs=epochs\n",
        "\n",
        "  def fit(self,X,y):\n",
        "    #calculate the  b using GD\n",
        "    for i in range(self.epochs):\n",
        "      loss_slope=-2*np.sum(y-self.m*X.ravel()-self.b)\n",
        "      self.b=self.b-(self.lr*loss_slope)\n",
        "      print(loss_slope,self.b)\n",
        "    print(self.b)"
      ],
      "metadata": {
        "id": "sH7dYi204ivH"
      },
      "execution_count": null,
      "outputs": []
    },
    {
      "cell_type": "code",
      "source": [
        "gd=GDRegressor(0.001,100)"
      ],
      "metadata": {
        "id": "TZa5kS484iry"
      },
      "execution_count": null,
      "outputs": []
    },
    {
      "cell_type": "code",
      "source": [
        "gd.fit(X,y)"
      ],
      "metadata": {
        "colab": {
          "base_uri": "https://localhost:8080/"
        },
        "id": "cRMSC3tk7c7h",
        "outputId": "7f8f5d02-a672-48c1-fc41-ab1e65b9d0ff"
      },
      "execution_count": null,
      "outputs": [
        {
          "output_type": "stream",
          "name": "stdout",
          "text": [
            "-24230.945118974796 -95.7690548810252\n",
            "-19384.756095179837 -76.38429878584536\n",
            "-15507.804876143871 -60.87649390970149\n",
            "-12406.243900915097 -48.470250008786394\n",
            "-9924.995120732076 -38.545254888054316\n",
            "-7939.996096585661 -30.605258791468657\n",
            "-6351.99687726853 -24.253261914200127\n",
            "-5081.597501814824 -19.171664412385304\n",
            "-4065.278001451858 -15.106386410933446\n",
            "-3252.2224011614862 -11.85416400977196\n",
            "-2601.7779209291893 -9.252386088842771\n",
            "-2081.422336743351 -7.17096375209942\n",
            "-1665.1378693946804 -5.505825882704739\n",
            "-1332.1102955157448 -4.173715587188994\n",
            "-1065.6882364125959 -3.108027350776398\n",
            "-852.5505891300763 -2.255476761646322\n",
            "-682.0404713040613 -1.5734362903422605\n",
            "-545.6323770432491 -1.0278039132990116\n",
            "-436.50590163459907 -0.5912980116644124\n",
            "-349.20472130767934 -0.2420932903567331\n",
            "-279.36377704614364 0.03727048668941052\n",
            "-223.4910216369148 0.26076150832632533\n",
            "-178.79281730953184 0.43955432563585717\n",
            "-143.03425384762554 0.5825885794834826\n",
            "-114.42740307810043 0.697015982561583\n",
            "-91.54192246248031 0.7885579050240633\n",
            "-73.23353796998423 0.8617914429940475\n",
            "-58.5868303759875 0.9203782733700351\n",
            "-46.86946430079004 0.9672477376708252\n",
            "-37.49557144063201 1.0047433091114573\n",
            "-29.996457152505393 1.0347397662639626\n",
            "-23.997165722004578 1.0587369319859672\n",
            "-19.197732577603325 1.0779346645635706\n",
            "-15.358186062082739 1.0932928506256534\n",
            "-12.286548849666367 1.1055793994753198\n",
            "-9.829239079732977 1.1154086385550528\n",
            "-7.86339126378639 1.1232720298188392\n",
            "-6.290713011029098 1.1295627428298682\n",
            "-5.032570408823233 1.1345953132386914\n",
            "-4.02605632705869 1.13862136956575\n",
            "-3.22084506164685 1.141842214627397\n",
            "-2.576676049317687 1.1444188906767148\n",
            "-2.061340839453891 1.1464802315161686\n",
            "-1.6490726715632178 1.1481293041877318\n",
            "-1.31925813725044 1.1494485623249824\n",
            "-1.0554065098004806 1.150503968834783\n",
            "-0.8443252078402725 1.1513482940426232\n",
            "-0.6754601662723232 1.1520237542088956\n",
            "-0.5403681330177825 1.1525641223419134\n",
            "-0.4322945064141326 1.1529964168483275\n",
            "-0.34583560513142153 1.153342252453459\n",
            "-0.27666848410517986 1.153618920937564\n",
            "-0.221334787284178 1.1538402557248482\n",
            "-0.17706782982729408 1.1540173235546756\n",
            "-0.14165426386176705 1.1541589778185373\n",
            "-0.11332341108941968 1.1542723012296268\n",
            "-0.09065872887171977 1.1543629599584986\n",
            "-0.07252698309734207 1.1544354869415958\n",
            "-0.05802158647788147 1.1544935085280736\n",
            "-0.04641726918211475 1.1545399257972557\n",
            "-0.03713381534579696 1.1545770596126015\n",
            "-0.029707052276625845 1.154606766664878\n",
            "-0.023765641821430705 1.1546305323066994\n",
            "-0.01901251345701027 1.1546495448201564\n",
            "-0.015210010765571269 1.154664754830922\n",
            "-0.012168008612562176 1.1546769228395344\n",
            "-0.009734406890004266 1.1546866572464243\n",
            "-0.007787525512188864 1.1546944447719365\n",
            "-0.006230020409637049 1.154700674792346\n",
            "-0.0049840163278283 1.154705658808674\n",
            "-0.003987213062265127 1.154709646021736\n",
            "-0.003189770449701257 1.1547128357921859\n",
            "-0.002551816359769532 1.1547153876085456\n",
            "-0.002041453087681333 1.1547174290616333\n",
            "-0.0016331624701866332 1.1547190622241035\n",
            "-0.001306529976240256 1.1547203687540797\n",
            "-0.0010452239809861652 1.1547214139780606\n",
            "-0.0008361791849189615 1.1547222501572456\n",
            "-0.000668943347733375 1.1547229191005934\n",
            "-0.0005351546783369798 1.1547234542552718\n",
            "-0.0004281237425018958 1.1547238823790142\n",
            "-0.00034249899402460926 1.1547242248780083\n",
            "-0.0002739991951639098 1.1547244988772034\n",
            "-0.00021919935620395847 1.1547247180765596\n",
            "-0.00017535948515856603 1.1547248934360448\n",
            "-0.00014028758799966567 1.1547250337236328\n",
            "-0.00011223007030025656 1.1547251459537031\n",
            "-8.97840563176544e-05 1.1547252357377595\n",
            "-7.182724501930693e-05 1.1547253075650046\n",
            "-5.746179597032608e-05 1.1547253650268006\n",
            "-4.5969436971660116e-05 1.1547254109962375\n",
            "-3.677554942882466e-05 1.154725447771787\n",
            "-2.9420439357608075e-05 1.1547254771922264\n",
            "-2.3536351562825075e-05 1.154725500728578\n",
            "-1.8829081355420385e-05 1.1547255195576593\n",
            "-1.506326511879763e-05 1.1547255346209244\n",
            "-1.2050612159697494e-05 1.1547255466715365\n",
            "-9.640489798456997e-06 1.1547255563120262\n",
            "-7.712391614234093e-06 1.1547255640244178\n",
            "-6.169913440601249e-06 1.1547255701943313\n",
            "1.1547255701943313\n"
          ]
        }
      ]
    },
    {
      "cell_type": "code",
      "source": [],
      "metadata": {
        "id": "Do_3VQKC7c4E"
      },
      "execution_count": null,
      "outputs": []
    },
    {
      "cell_type": "code",
      "source": [],
      "metadata": {
        "id": "ly2d2n5K7c0n"
      },
      "execution_count": null,
      "outputs": []
    },
    {
      "cell_type": "code",
      "source": [],
      "metadata": {
        "id": "SHn0VLUb7cyi"
      },
      "execution_count": null,
      "outputs": []
    },
    {
      "cell_type": "code",
      "source": [],
      "metadata": {
        "id": "_X1NTSzi7cw1"
      },
      "execution_count": null,
      "outputs": []
    }
  ]
}