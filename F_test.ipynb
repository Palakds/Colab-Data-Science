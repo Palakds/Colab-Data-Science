{
  "nbformat": 4,
  "nbformat_minor": 0,
  "metadata": {
    "colab": {
      "provenance": [],
      "authorship_tag": "ABX9TyO9LzXF/woIYvWh61mpATVg",
      "include_colab_link": true
    },
    "kernelspec": {
      "name": "python3",
      "display_name": "Python 3"
    },
    "language_info": {
      "name": "python"
    }
  },
  "cells": [
    {
      "cell_type": "markdown",
      "metadata": {
        "id": "view-in-github",
        "colab_type": "text"
      },
      "source": [
        "<a href=\"https://colab.research.google.com/github/Palakds/Palakds/blob/main/F_test.ipynb\" target=\"_parent\"><img src=\"https://colab.research.google.com/assets/colab-badge.svg\" alt=\"Open In Colab\"/></a>"
      ]
    },
    {
      "cell_type": "markdown",
      "source": [
        "# F test with python\n"
      ],
      "metadata": {
        "id": "1Az-R60hepq-"
      }
    },
    {
      "cell_type": "code",
      "execution_count": 1,
      "metadata": {
        "id": "q2g32zuReZVQ"
      },
      "outputs": [],
      "source": [
        "# evidence to say that the population variance are not equal\n",
        "# check we come to conclusion whether one worker is better than the other\n",
        "\n",
        "\n",
        "worker1=[18,19,22,25,27,28,41,45,51,55]\n",
        "worker2=[14,15,15,17,18,22,25,25,27,34]"
      ]
    },
    {
      "cell_type": "code",
      "source": [
        "# calculate the f test statistics\n",
        "import numpy as np\n",
        "f_test=np.var(worker1)/np.var(worker2)"
      ],
      "metadata": {
        "id": "oKYsvVxqfcj1"
      },
      "execution_count": 2,
      "outputs": []
    },
    {
      "cell_type": "code",
      "source": [
        "f_test"
      ],
      "metadata": {
        "colab": {
          "base_uri": "https://localhost:8080/"
        },
        "id": "kLsMhphKfyfb",
        "outputId": "1f8fc0e6-2b39-4673-a4b0-6dac03a2c516"
      },
      "execution_count": 3,
      "outputs": [
        {
          "output_type": "execute_result",
          "data": {
            "text/plain": [
              "4.387122002085506"
            ]
          },
          "metadata": {},
          "execution_count": 3
        }
      ]
    },
    {
      "cell_type": "code",
      "source": [
        "# degree of freedom\n",
        "df1=len(worker1)-1\n",
        "df2=len(worker2)-1\n",
        "significance_value=0.05"
      ],
      "metadata": {
        "id": "XtSBOJT3fzZZ"
      },
      "execution_count": 6,
      "outputs": []
    },
    {
      "cell_type": "code",
      "source": [
        "import scipy.stats as stat"
      ],
      "metadata": {
        "id": "XGw_sVknf84U"
      },
      "execution_count": 7,
      "outputs": []
    },
    {
      "cell_type": "code",
      "source": [
        "critical_value=stat.f.ppf(q=1-significance_value,dfn=df1,dfd=df2)"
      ],
      "metadata": {
        "id": "9V4LP5x1gAOc"
      },
      "execution_count": 9,
      "outputs": []
    },
    {
      "cell_type": "code",
      "source": [
        "if f_test>critical_value:\n",
        "  print(\"reject the null hypothesis\")\n",
        "else:\n",
        "  print(\"We fall to reject the null hypothesis\")\n"
      ],
      "metadata": {
        "colab": {
          "base_uri": "https://localhost:8080/"
        },
        "id": "fAWCESUWgRac",
        "outputId": "80f517cc-31ed-4e25-9c66-205dc4dd6b10"
      },
      "execution_count": 10,
      "outputs": [
        {
          "output_type": "stream",
          "name": "stdout",
          "text": [
            "reject the null hypothesis\n"
          ]
        }
      ]
    },
    {
      "cell_type": "code",
      "source": [],
      "metadata": {
        "id": "qQNFgLwJgqx3"
      },
      "execution_count": null,
      "outputs": []
    }
  ]
}