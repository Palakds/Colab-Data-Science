{
  "nbformat": 4,
  "nbformat_minor": 0,
  "metadata": {
    "colab": {
      "provenance": [],
      "authorship_tag": "ABX9TyPiSmfo+UA9CDTVDihQYEdk",
      "include_colab_link": true
    },
    "kernelspec": {
      "name": "python3",
      "display_name": "Python 3"
    },
    "language_info": {
      "name": "python"
    }
  },
  "cells": [
    {
      "cell_type": "markdown",
      "metadata": {
        "id": "view-in-github",
        "colab_type": "text"
      },
      "source": [
        "<a href=\"https://colab.research.google.com/github/Palakds/Palakds/blob/main/Task_Session1.ipynb\" target=\"_parent\"><img src=\"https://colab.research.google.com/assets/colab-badge.svg\" alt=\"Open In Colab\"/></a>"
      ]
    },
    {
      "cell_type": "markdown",
      "source": [
        "### Q1 :- Print the given strings as per stated format.\n",
        "\n",
        "**Given strings**:\n",
        "```\n",
        "\"Data\" \"Science\" \"Mentorship\" \"Program\"\n",
        "\"By\" \"CampusX\"\n",
        "```\n",
        "**Output**:\n",
        "```\n",
        "Data-Science-Mentorship-Program-started-By-CampusX\n",
        "```\n",
        "\n",
        "Concept- [Seperator and End]"
      ],
      "metadata": {
        "id": "7fVC5inxz3IP"
      }
    },
    {
      "cell_type": "code",
      "execution_count": null,
      "metadata": {
        "colab": {
          "base_uri": "https://localhost:8080/"
        },
        "id": "dybe3TyWzxTU",
        "outputId": "2ee9c2d9-66d4-4ec3-e144-8df1bfef5bfc"
      },
      "outputs": [
        {
          "output_type": "stream",
          "name": "stdout",
          "text": [
            "Data-science-mentorship-program-by-campusX\n"
          ]
        }
      ],
      "source": [
        "format='Data-science-mentorship-program-by-campusX'\n",
        "print(format)"
      ]
    },
    {
      "cell_type": "markdown",
      "source": [
        "### Q2:- Write a program that will convert celsius value to fahrenheit."
      ],
      "metadata": {
        "id": "sb-E91Q71cEZ"
      }
    },
    {
      "cell_type": "code",
      "source": [
        "# (0°C × 9/5) + 32 = 32°F\n",
        "celsius = int(input(\"Enter the Temperature in Celsius :\"))\n",
        "fahrenheit = (1.8 * celsius) + 32\n",
        "print(\"Temperature in Fahrenheit :\", fahrenheit)\n"
      ],
      "metadata": {
        "id": "JwI3tdsH0OVb",
        "colab": {
          "base_uri": "https://localhost:8080/"
        },
        "outputId": "58101d4f-3a7d-4d1e-f282-113f35acd6db"
      },
      "execution_count": null,
      "outputs": [
        {
          "output_type": "stream",
          "name": "stdout",
          "text": [
            "Enter the Temperature in Celsius :10\n",
            "Temperature in Fahrenheit : 50.0\n"
          ]
        }
      ]
    },
    {
      "cell_type": "markdown",
      "source": [
        "### Q3:- Take 2 numbers as input from the user.Write a program to swap the numbers without using any special python syntax."
      ],
      "metadata": {
        "id": "F2kG3qxW2xyJ"
      }
    },
    {
      "cell_type": "code",
      "source": [
        "num1=int(input('enter the first number :'))\n",
        "num2=int(input('enter the second number :'))\n",
        "print('before swap',num1,num2)\n",
        "temp=num1\n",
        "num1=num2\n",
        "num2=temp\n",
        "print('after number',num1,num2)"
      ],
      "metadata": {
        "colab": {
          "base_uri": "https://localhost:8080/"
        },
        "id": "1YwiJ8Dn2yR5",
        "outputId": "2587c4a4-a851-404a-fd23-a8447474baa6"
      },
      "execution_count": null,
      "outputs": [
        {
          "output_type": "stream",
          "name": "stdout",
          "text": [
            "enter the first number :4\n",
            "enter the second number :5\n",
            "before swap 4 5\n",
            "after number 5 4\n"
          ]
        }
      ]
    },
    {
      "cell_type": "markdown",
      "source": [
        "###Q4:- Write a program to find the euclidean distance between two coordinates.Take both the coordinates from the user as input."
      ],
      "metadata": {
        "id": "WHDRGV432ylJ"
      }
    },
    {
      "cell_type": "code",
      "source": [
        "import math\n",
        "x1=float(input('enetr the x1-coordinate of the first point'))\n",
        "y1=float(input('enter the y1-coordinate of the first point'))\n",
        "x2=float(input('enter the x2-coordinate of the second point'))\n",
        "y2=float(input('enter the y2-coordinate of the second point'))\n",
        "distance=math.sqrt((x2-x1)**2 + (y2-y1)**2)\n",
        "print(distance)\n",
        "\n",
        "\n"
      ],
      "metadata": {
        "colab": {
          "base_uri": "https://localhost:8080/"
        },
        "id": "hJUisnF62y4I",
        "outputId": "d7bb1034-f3e0-49e3-fcb8-cef761dde1db"
      },
      "execution_count": null,
      "outputs": [
        {
          "output_type": "stream",
          "name": "stdout",
          "text": [
            "enetr the x1-coordinate of the first point3\n",
            "enter the y1-coordinate of the first point4\n",
            "enter the x2-coordinate of the second point1\n",
            "enter the y2-coordinate of the second point2\n",
            "2.8284271247461903\n"
          ]
        }
      ]
    },
    {
      "cell_type": "markdown",
      "source": [
        "### Q6:- Write a program that will tell the number of dogs and chicken are there when the user will provide the value of total heads and legs.\n",
        "\n",
        "For example:\n",
        "Input:\n",
        "heads -> 4\n",
        "legs -> 12\n",
        "<br>\n",
        "Output:\n",
        "dogs -> 2\n",
        "chicken -> 2"
      ],
      "metadata": {
        "id": "KBwrO-Tf7lYu"
      }
    },
    {
      "cell_type": "code",
      "source": [
        "heads=int(input('total heads :'))\n",
        "legs=int(input('total legs :'))\n",
        "chicken_no=2*heads-(legs)/2\n",
        "dog_no=heads-chicken_no\n",
        "print('chicken number',chicken_no)\n",
        "print('dog number',dog_no)\n",
        "\n"
      ],
      "metadata": {
        "colab": {
          "base_uri": "https://localhost:8080/"
        },
        "id": "g3s0Bna67llN",
        "outputId": "ecc221c9-4434-439e-cee9-b14ff88996a0"
      },
      "execution_count": null,
      "outputs": [
        {
          "output_type": "stream",
          "name": "stdout",
          "text": [
            "total heads :4\n",
            "total legs :12\n",
            "chicken number 2.0\n",
            "dog number 2.0\n"
          ]
        }
      ]
    },
    {
      "cell_type": "markdown",
      "source": [
        "### Q7:- Write a program to find the sum of squares of first n natural numbers where n will be provided by the user"
      ],
      "metadata": {
        "id": "FQUoGx_07l0k"
      }
    },
    {
      "cell_type": "code",
      "source": [
        "import math\n",
        "n=int(input('enter first n natural number :'))\n",
        "sum=[(n*(n+1)*(2*n+1))/6]\n",
        "print(sum)\n",
        "\n"
      ],
      "metadata": {
        "colab": {
          "base_uri": "https://localhost:8080/"
        },
        "id": "DM1Qh4tK7mC2",
        "outputId": "37599ce0-9d7b-494e-c09e-5cf0133bfe15"
      },
      "execution_count": null,
      "outputs": [
        {
          "output_type": "stream",
          "name": "stdout",
          "text": [
            "enter first n natural number :3\n",
            "[14.0]\n"
          ]
        }
      ]
    },
    {
      "cell_type": "code",
      "source": [
        "n=int(input('enter first n natural number :'))\n",
        "i=1\n",
        "sum=0\n",
        "while(i <= n):\n",
        "  sum = sum + (i*i)\n",
        "  i = i+1\n",
        "print(sum)"
      ],
      "metadata": {
        "colab": {
          "base_uri": "https://localhost:8080/"
        },
        "id": "yPd71bHHO9wu",
        "outputId": "a0a7dd9f-efd8-453e-c147-929b78d72ec3"
      },
      "execution_count": null,
      "outputs": [
        {
          "output_type": "stream",
          "name": "stdout",
          "text": [
            "enter first n natural number :3\n",
            "14\n"
          ]
        }
      ]
    },
    {
      "cell_type": "markdown",
      "source": [
        "###Q8:- Given the first 2 terms of an Arithmetic Series.Find the Nth term of the series. Assume all inputs are provided by the user"
      ],
      "metadata": {
        "id": "WTZTEkfjOvMD"
      }
    },
    {
      "cell_type": "code",
      "source": [
        "n=int(input('enter n :'))\n",
        "a_0=1\n",
        "a_1=3\n",
        "d=a_1-a_0\n",
        "sum=a_1+(n-1)*d\n",
        "print(sum)"
      ],
      "metadata": {
        "colab": {
          "base_uri": "https://localhost:8080/"
        },
        "id": "RAEjlRLOQRR4",
        "outputId": "b8f7cec7-601b-4256-d0e7-e5bed94dc824"
      },
      "execution_count": null,
      "outputs": [
        {
          "output_type": "stream",
          "name": "stdout",
          "text": [
            "enter n :10\n",
            "21\n"
          ]
        }
      ]
    },
    {
      "cell_type": "code",
      "source": [
        "# Function to calculate the nth term of an arithmetic series\n",
        "def nth_term_of_arithmetic_series(first_term, common_difference, n):\n",
        "    nth_term = first_term + (n - 1) * common_difference\n",
        "    return nth_term\n",
        "\n",
        "# Input values from the user in Jupyter notebook\n",
        "first_term = float(input(\"Enter the first term of the arithmetic series: \"))\n",
        "common_difference = float(input(\"Enter the common difference: \"))\n",
        "n = int(input(\"Enter the value of n for the nth term: \"))\n",
        "\n",
        "# Calculate and display the nth term\n",
        "result = nth_term_of_arithmetic_series(first_term, common_difference, n)\n",
        "result\n"
      ],
      "metadata": {
        "colab": {
          "base_uri": "https://localhost:8080/"
        },
        "id": "spgQgKapUHlP",
        "outputId": "a1c30a4a-1301-4924-ec48-b8c7cf6ae9f1"
      },
      "execution_count": null,
      "outputs": [
        {
          "name": "stdout",
          "output_type": "stream",
          "text": [
            "Enter the first term of the arithmetic series: 1\n",
            "Enter the common difference: 3\n",
            "Enter the value of n for the nth term: 7\n"
          ]
        },
        {
          "output_type": "execute_result",
          "data": {
            "text/plain": [
              "19.0"
            ]
          },
          "metadata": {},
          "execution_count": 31
        }
      ]
    },
    {
      "cell_type": "markdown",
      "source": [
        "### Q9:- Given 2 fractions, find the sum of those 2 fractions.Take the numerator and denominator values of the fractions from the user."
      ],
      "metadata": {
        "id": "5y2r5A8CUZCG"
      }
    },
    {
      "cell_type": "code",
      "source": [
        "num_1=int(input('enter the numerator 1 :'))\n",
        "num_2=int(input('enter the numerator 2 :'))\n",
        "den_1=int(input('enter the denomenator 1 :'))\n",
        "den_2=int(input('enter the denominator 2 :'))\n",
        "sum=(num_1/den_1)+(num_2/den_2)\n",
        "print(sum)"
      ],
      "metadata": {
        "colab": {
          "base_uri": "https://localhost:8080/"
        },
        "id": "ohfYVupIUZVa",
        "outputId": "b48ae1fb-7d11-451f-8255-acd5ecfdfea1"
      },
      "execution_count": null,
      "outputs": [
        {
          "output_type": "stream",
          "name": "stdout",
          "text": [
            "enter the numerator 1 :1\n",
            "enter the numerator 2 :3\n",
            "enter the denomenator 1 :2\n",
            "enter the denominator 2 :2\n",
            "2.0\n"
          ]
        }
      ]
    },
    {
      "cell_type": "markdown",
      "source": [
        "### Q10:- Given the height, width and breadth of a milk tank, you have to find out how many glasses of milk can be obtained? Assume all the inputs are provided by the user.\n",
        "\n",
        "\n",
        "\n",
        "Input:<br>\n",
        "Dimensions of the milk tank<br>\n",
        "H = 20cm, L = 20cm, B = 20cm\n",
        "<br><br>\n",
        "Dimensions of the glass<br>\n",
        "h = 3cm, r = 1cm"
      ],
      "metadata": {
        "id": "jECgkXP8UZjM"
      }
    },
    {
      "cell_type": "code",
      "source": [
        "height=int(input('height of the tank in cm :'))\n",
        "width=int(input('length of the tank in cm :'))\n",
        "breadth=int(input('breadth of the tank in cm :'))\n",
        "volume_tank=height*width*breadth\n",
        "glass_height=int(input('height of the glass in cm :'))\n",
        "glass_width=int(input('radius in cm :'))\n",
        "volume_glass=glass_height*glass_width\n",
        "num_glasses= (volume_tank) / (volume_glass)\n",
        "print('Volume of tank :',volume_tank,'\\n volume of glass :',volume_glass,' \\n number of glasses :',num_glasses)\n"
      ],
      "metadata": {
        "id": "C5JxN7n0UZw-",
        "colab": {
          "base_uri": "https://localhost:8080/"
        },
        "outputId": "89e4b994-0c9a-4048-d919-bbab82048b51"
      },
      "execution_count": 10,
      "outputs": [
        {
          "output_type": "stream",
          "name": "stdout",
          "text": [
            "height of the tank in cm :20\n",
            "length of the tank in cm :20\n",
            "breadth of the tank in cm :20\n",
            "height of the glass in cm :3\n",
            "radius in cm :1\n",
            "Volume of tank : 8000 \n",
            " volume of glass : 3  \n",
            " number of glasses : 2666.6666666666665\n"
          ]
        }
      ]
    }
  ]
}