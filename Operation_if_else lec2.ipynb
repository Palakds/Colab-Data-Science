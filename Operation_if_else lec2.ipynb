{
  "cells": [
    {
      "cell_type": "markdown",
      "metadata": {
        "id": "view-in-github",
        "colab_type": "text"
      },
      "source": [
        "<a href=\"https://colab.research.google.com/github/Palakds/Palakds/blob/main/Operation_if_else.ipynb\" target=\"_parent\"><img src=\"https://colab.research.google.com/assets/colab-badge.svg\" alt=\"Open In Colab\"/></a>"
      ]
    },
    {
      "cell_type": "code",
      "execution_count": null,
      "metadata": {
        "colab": {
          "base_uri": "https://localhost:8080/"
        },
        "id": "YSxjop3YPbSL",
        "outputId": "6e5243f3-ae67-432b-e3ed-8faf732644ae"
      },
      "outputs": [
        {
          "name": "stdout",
          "output_type": "stream",
          "text": [
            "11\n",
            "-1\n",
            "20\n",
            "0.8333333333333334\n",
            "1\n",
            "1\n",
            "16777216\n"
          ]
        }
      ],
      "source": [
        "#Arithemtic Operator\n",
        "print(5+6)\n",
        "print(5-6)\n",
        "print(5*4)\n",
        "print(5/6)\n",
        "print(6//5)  #integer devision\n",
        "print(5%2)\n",
        "print(8**8) #power"
      ]
    },
    {
      "cell_type": "code",
      "execution_count": null,
      "metadata": {
        "colab": {
          "base_uri": "https://localhost:8080/"
        },
        "id": "DtlPcohwPbc_",
        "outputId": "098c3e1e-40e5-4f01-cc1b-6ea6df7ac082"
      },
      "outputs": [
        {
          "name": "stdout",
          "output_type": "stream",
          "text": [
            "False\n",
            "True\n",
            "True\n",
            "True\n",
            "True\n",
            "False\n"
          ]
        }
      ],
      "source": [
        "#Relational Operators\n",
        "print(4>5)\n",
        "print(4<5)\n",
        "print(4==4)\n",
        "print(4<=4)\n",
        "print(4>=4)\n",
        "print(4!=4)"
      ]
    },
    {
      "cell_type": "code",
      "execution_count": null,
      "metadata": {
        "colab": {
          "base_uri": "https://localhost:8080/"
        },
        "id": "0ejofpU4QyZR",
        "outputId": "cb7664e0-08ad-4631-f343-97e547d7dc40"
      },
      "outputs": [
        {
          "name": "stdout",
          "output_type": "stream",
          "text": [
            "0\n",
            "1\n",
            "False\n"
          ]
        }
      ],
      "source": [
        "#Logical Operators\n",
        "print(1 and 0)\n",
        "print(1 or 0)\n",
        "print(not 1)"
      ]
    },
    {
      "cell_type": "code",
      "execution_count": null,
      "metadata": {
        "colab": {
          "base_uri": "https://localhost:8080/"
        },
        "id": "2Rr1fInMQ9zx",
        "outputId": "83802698-ba3a-4fd1-bf7b-90360af56df7"
      },
      "outputs": [
        {
          "name": "stdout",
          "output_type": "stream",
          "text": [
            "2\n",
            "3\n",
            "1\n",
            "-4\n",
            "1\n",
            "20\n"
          ]
        }
      ],
      "source": [
        "# Bitwise Operators\n",
        "#bitwise and\n",
        "print(2 & 3)\n",
        "#bitwise or\n",
        "print(2|3)\n",
        "#bitiwse xor\n",
        "print(2^3)\n",
        "#bitiwse not\n",
        "print(~3)\n",
        "#bitwise left operator\n",
        "print(4>>2)\n",
        "#bitwise right\n",
        "print(5<<2)"
      ]
    },
    {
      "cell_type": "code",
      "execution_count": null,
      "metadata": {
        "colab": {
          "base_uri": "https://localhost:8080/"
        },
        "id": "Fvc5TADxRIX2",
        "outputId": "d7eba0c5-afe9-4e14-dece-9277d476d761"
      },
      "outputs": [
        {
          "name": "stdout",
          "output_type": "stream",
          "text": [
            "4\n"
          ]
        }
      ],
      "source": [
        "#Assignment operator\n",
        "a=2\n",
        "a+=2\n",
        "print(a)\n"
      ]
    },
    {
      "cell_type": "code",
      "execution_count": null,
      "metadata": {
        "colab": {
          "base_uri": "https://localhost:8080/"
        },
        "id": "J_2cCsgNRIaC",
        "outputId": "27409d22-6348-4215-cd3a-c17f8d03fcc1"
      },
      "outputs": [
        {
          "name": "stdout",
          "output_type": "stream",
          "text": [
            "True\n",
            "False\n"
          ]
        }
      ],
      "source": [
        "# Membership operator\n",
        "#in/not in\n",
        "print('D'in 'Delhi')\n",
        "print(1 in [2,3,4,5,6])"
      ]
    },
    {
      "cell_type": "code",
      "execution_count": null,
      "metadata": {
        "colab": {
          "base_uri": "https://localhost:8080/"
        },
        "id": "iuBqc0n9RIda",
        "outputId": "9894750a-4aa2-4576-c992-87d22ecbdbea"
      },
      "outputs": [
        {
          "name": "stdout",
          "output_type": "stream",
          "text": [
            "Enter a three digit number234\n",
            "9\n"
          ]
        }
      ],
      "source": [
        "# program - Find the sum of a 3 digit number enetered by user\n",
        "number=int(input('Enter a three digit number'))\n",
        "#345%10=5\n",
        "a=number%10\n",
        "number=number//10\n",
        " #34%10=4\n",
        "b=number%10\n",
        "number=number//10\n",
        "#3%10=3\n",
        "c=number%10\n",
        "print(a+b+c)\n"
      ]
    },
    {
      "cell_type": "markdown",
      "metadata": {
        "id": "F47_qHVUvKxU"
      },
      "source": [
        "If - else in Python"
      ]
    },
    {
      "cell_type": "code",
      "execution_count": null,
      "metadata": {
        "colab": {
          "base_uri": "https://localhost:8080/"
        },
        "id": "Exgfp2nquHih",
        "outputId": "11fef62e-6066-4189-bd09-1a7ff36548cf"
      },
      "outputs": [
        {
          "name": "stdout",
          "output_type": "stream",
          "text": [
            "enter emailpalakgupta@gmail.com\n",
            "enter password3456\n",
            "Incorrect password\n",
            "enter the password123\n",
            "beta tumse na ho payega\n"
          ]
        }
      ],
      "source": [
        "#login program and indentation\n",
        "#email -> palakgupta@gmail.com\n",
        "#password -> 1234\n",
        "\n",
        "email=input('enter email')\n",
        "password=input('enter password')\n",
        "if email=='palakgupta@gmail.com' and password=='1234':\n",
        "  print('welcome')\n",
        "elif email== 'palakgupta@gmail.com' and password!='1234':\n",
        "  print('Incorrect password')\n",
        "  password=input('enter the password')\n",
        "  if password=='1234':\n",
        "    print('welcome,finally!')\n",
        "  else:\n",
        "      print('beta tumse na ho payega')\n",
        "else:\n",
        "  print('not correct')"
      ]
    },
    {
      "cell_type": "code",
      "execution_count": null,
      "metadata": {
        "id": "auWcvzJ-vR9Q"
      },
      "outputs": [],
      "source": [
        "#if-else examples\n",
        "#1. Find the min of 3 given numbers\n",
        "#2. Menu driven program"
      ]
    },
    {
      "cell_type": "code",
      "execution_count": null,
      "metadata": {
        "colab": {
          "base_uri": "https://localhost:8080/"
        },
        "id": "ivSYFi9RyEB2",
        "outputId": "7c4fac66-3a59-478e-90d5-bf48d2541fdc"
      },
      "outputs": [
        {
          "name": "stdout",
          "output_type": "stream",
          "text": [
            "enter 1st number5\n",
            "enter 2nd number5\n",
            "enter 3rd number5\n",
            "smallest is 5\n"
          ]
        }
      ],
      "source": [
        "# min of 3 numbers\n",
        "a=int(input('enter 1st number'))\n",
        "b=int(input('enter 2nd number'))\n",
        "c=int(input('enter 3rd number'))\n",
        "\n",
        "if a<b and a<c:\n",
        "  print('smallest is',a)\n",
        "elif b<c:\n",
        "  print('smallest is',b)\n",
        "else:\n",
        "  print('smallest is',c)\n",
        "\n"
      ]
    },
    {
      "cell_type": "code",
      "execution_count": null,
      "metadata": {
        "colab": {
          "base_uri": "https://localhost:8080/"
        },
        "id": "5O57hXjuyvHK",
        "outputId": "daa90bfa-3907-4cdb-9daa-f86592ddaa91"
      },
      "outputs": [
        {
          "name": "stdout",
          "output_type": "stream",
          "text": [
            "enter the 1st number4\n",
            "enter the 2nd number5\n",
            "enter the operation-\n",
            "-1\n"
          ]
        }
      ],
      "source": [
        "# menu driven calculator\n",
        "fnum=int(input('enter the 1st number'))\n",
        "snum=int(input('enter the 2nd number'))\n",
        "\n",
        "op=input('enter the operation')\n",
        "\n",
        "if op=='+':\n",
        " print(fnum+snum)\n",
        "elif op=='*':\n",
        "  print(fnum*snum)\n",
        "elif op=='-':\n",
        "  print(fnum-snum)\n",
        "else:\n",
        "  print(fnum/snum)"
      ]
    },
    {
      "cell_type": "code",
      "execution_count": null,
      "metadata": {
        "colab": {
          "base_uri": "https://localhost:8080/"
        },
        "id": "1xC2dbQuzr0a",
        "outputId": "423bced4-6b1e-47aa-c0f8-6a331dbd7f75"
      },
      "outputs": [
        {
          "name": "stdout",
          "output_type": "stream",
          "text": [
            "\n",
            "Hi! how can i help you.\n",
            "1. Enter 1 for pin change\n",
            "2. Enter 2 for balance check\n",
            "3. Enter 3 for withdrawal\n",
            "4. enter 4 for withdrwal\n",
            "4\n",
            "exit\n"
          ]
        }
      ],
      "source": [
        "#menu driven program\n",
        "menu = input(\"\"\"\n",
        "Hi! how can i help you.\n",
        "1. Enter 1 for pin change\n",
        "2. Enter 2 for balance check\n",
        "3. Enter 3 for withdrawal\n",
        "4. enter 4 for withdrwal\n",
        "\"\"\")\n",
        "\n",
        "if menu=='1':\n",
        "  print('pin chnage')\n",
        "elif menu=='2':\n",
        "  print('balance check')\n",
        "elif menu=='3':\n",
        "  print('withdrawal')\n",
        "else:\n",
        "  print('exit')"
      ]
    },
    {
      "cell_type": "markdown",
      "metadata": {
        "id": "nTmDcHD_2bCQ"
      },
      "source": [
        "  Modulues in Python\n",
        "\n",
        "\n",
        "1.   math\n",
        "2.  keywords\n",
        "3.  constant\n",
        "4.  random\n",
        "\n",
        "\n",
        "\n"
      ]
    },
    {
      "cell_type": "code",
      "execution_count": null,
      "metadata": {
        "colab": {
          "base_uri": "https://localhost:8080/"
        },
        "id": "iE-Jhz-kzr3Y",
        "outputId": "f4334480-b1cd-4f9c-eafb-1b8ad633d461"
      },
      "outputs": [
        {
          "data": {
            "text/plain": [
              "6"
            ]
          },
          "execution_count": 3,
          "metadata": {},
          "output_type": "execute_result"
        }
      ],
      "source": [
        "#math\n",
        "import math\n",
        "\n",
        "math.factorial(5)\n",
        "math.floor(6.9)"
      ]
    },
    {
      "cell_type": "code",
      "execution_count": null,
      "metadata": {
        "colab": {
          "base_uri": "https://localhost:8080/"
        },
        "id": "Q9nxpkobIYM3",
        "outputId": "8f5b9c42-4670-4f13-d303-eeb2f76a68fd"
      },
      "outputs": [
        {
          "name": "stdout",
          "output_type": "stream",
          "text": [
            "['False', 'None', 'True', 'and', 'as', 'assert', 'async', 'await', 'break', 'class', 'continue', 'def', 'del', 'elif', 'else', 'except', 'finally', 'for', 'from', 'global', 'if', 'import', 'in', 'is', 'lambda', 'nonlocal', 'not', 'or', 'pass', 'raise', 'return', 'try', 'while', 'with', 'yield']\n"
          ]
        }
      ],
      "source": [
        "#keyword\n",
        "import keyword\n",
        "print(keyword.kwlist)"
      ]
    },
    {
      "cell_type": "code",
      "execution_count": null,
      "metadata": {
        "colab": {
          "base_uri": "https://localhost:8080/"
        },
        "id": "ht4Ku0k2zr51",
        "outputId": "aca5e693-7358-4eac-f15f-ee0249787092"
      },
      "outputs": [
        {
          "name": "stdout",
          "output_type": "stream",
          "text": [
            "45\n"
          ]
        }
      ],
      "source": [
        "#random\n",
        "import random\n",
        "print(random.randint(1,100))"
      ]
    },
    {
      "cell_type": "code",
      "execution_count": null,
      "metadata": {
        "colab": {
          "base_uri": "https://localhost:8080/"
        },
        "id": "OFqXv8Q7zr8I",
        "outputId": "515320c2-5528-43d7-fb92-e1ce4881e773"
      },
      "outputs": [
        {
          "name": "stdout",
          "output_type": "stream",
          "text": [
            "2024-02-04 12:42:36.160371\n"
          ]
        }
      ],
      "source": [
        "#datetime\n",
        "import datetime\n",
        "print(datetime.datetime.now())"
      ]
    }
  ],
  "metadata": {
    "colab": {
      "provenance": [],
      "authorship_tag": "ABX9TyPN7g6WXW+nN7MnwJrRhzL6",
      "include_colab_link": true
    },
    "kernelspec": {
      "display_name": "Python 3",
      "name": "python3"
    },
    "language_info": {
      "name": "python"
    }
  },
  "nbformat": 4,
  "nbformat_minor": 0
}
