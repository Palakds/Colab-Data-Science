{
  "nbformat": 4,
  "nbformat_minor": 0,
  "metadata": {
    "colab": {
      "provenance": [],
      "authorship_tag": "ABX9TyMrNuZiyrIEp1SXO2uuF1PK",
      "include_colab_link": true
    },
    "kernelspec": {
      "name": "python3",
      "display_name": "Python 3"
    },
    "language_info": {
      "name": "python"
    }
  },
  "cells": [
    {
      "cell_type": "markdown",
      "metadata": {
        "id": "view-in-github",
        "colab_type": "text"
      },
      "source": [
        "<a href=\"https://colab.research.google.com/github/Palakds/Palakds/blob/main/loops.ipynb\" target=\"_parent\"><img src=\"https://colab.research.google.com/assets/colab-badge.svg\" alt=\"Open In Colab\"/></a>"
      ]
    },
    {
      "cell_type": "markdown",
      "source": [
        "# Loops in Python\n",
        "\n",
        "\n",
        "1.   Need for loops\n",
        "2.   While loops\n",
        "3.   For loop\n",
        "\n"
      ],
      "metadata": {
        "id": "jS4wjXBRf1KG"
      }
    },
    {
      "cell_type": "code",
      "source": [
        "# while loop to print table\n",
        "# program -> sum of all digits of a given number\n",
        "# keep accepting number from users till he/she enters a 0 and then find the avg"
      ],
      "metadata": {
        "id": "IAJLZPT9gNHd"
      },
      "execution_count": null,
      "outputs": []
    },
    {
      "cell_type": "code",
      "execution_count": null,
      "metadata": {
        "colab": {
          "base_uri": "https://localhost:8080/"
        },
        "id": "XTPmnZnufPPW",
        "outputId": "632d922b-1e90-4233-a6d5-8c3b65fc5f16"
      },
      "outputs": [
        {
          "output_type": "stream",
          "name": "stdout",
          "text": [
            "Enter number11\n",
            "11 * 1 = 11\n",
            "11 * 2 = 22\n",
            "11 * 3 = 33\n",
            "11 * 4 = 44\n",
            "11 * 5 = 55\n",
            "11 * 6 = 66\n",
            "11 * 7 = 77\n",
            "11 * 8 = 88\n",
            "11 * 9 = 99\n",
            "11 * 10 = 110\n"
          ]
        }
      ],
      "source": [
        "number=int(input('Enter number'))\n",
        "i =1\n",
        "while i < 11:\n",
        "  print(number,'*',i,'=',number * i)\n",
        "  i += 1"
      ]
    },
    {
      "cell_type": "code",
      "source": [
        "#while loop with else\n",
        "x = 1\n",
        "while x < 3:\n",
        "  print(x)\n",
        "  x += 1\n",
        "\n",
        "else:\n",
        "  print('limit crossed')\n"
      ],
      "metadata": {
        "id": "M_PQXJFtgIBI",
        "colab": {
          "base_uri": "https://localhost:8080/"
        },
        "outputId": "9abb50a1-9703-4b26-c6fb-699729d463cc"
      },
      "execution_count": 1,
      "outputs": [
        {
          "output_type": "stream",
          "name": "stdout",
          "text": [
            "1\n",
            "2\n",
            "limit crossed\n"
          ]
        }
      ]
    },
    {
      "cell_type": "code",
      "source": [
        "#guessing game\n",
        "#generate a random integer between 1 to 100\n",
        "import random\n",
        "jackpot=random.randint(1,100)\n",
        "guess=int(input('guess kro '))\n",
        "counter = 1\n",
        "while guess != jackpot:\n",
        "  if guess < jackpot:\n",
        "    print('galat! guess higher')\n",
        "  else:\n",
        "    print('galat!guess lower')\n",
        "  guess=int(input('guess kro '))\n",
        "  counter += 1\n",
        "else:\n",
        "  print('correct guess')\n",
        "  print('attempts',counter)"
      ],
      "metadata": {
        "id": "oaI88h9LgIDA",
        "colab": {
          "base_uri": "https://localhost:8080/"
        },
        "outputId": "2431c178-1283-4fe2-d6b3-ef9c3f900575"
      },
      "execution_count": 4,
      "outputs": [
        {
          "output_type": "stream",
          "name": "stdout",
          "text": [
            "guess kro 45\n",
            "galat! guess higher\n",
            "guess kro 56\n",
            "galat! guess higher\n",
            "guess kro 78\n",
            "galat! guess higher\n",
            "guess kro 99\n",
            "galat!guess lower\n",
            "guess kro 86\n",
            "galat! guess higher\n",
            "guess kro 90\n",
            "galat! guess higher\n",
            "guess kro 94\n",
            "galat!guess lower\n",
            "guess kro 93\n",
            "correct guess\n",
            "attempts 8\n"
          ]
        }
      ]
    },
    {
      "cell_type": "code",
      "source": [
        "# for loop demo\n",
        "for i in range(1,11,2):\n",
        "  print(i)"
      ],
      "metadata": {
        "id": "vza6wZR9gIE-",
        "colab": {
          "base_uri": "https://localhost:8080/"
        },
        "outputId": "ca2632c7-dcf7-4999-c887-b32df3a9fe3a"
      },
      "execution_count": 6,
      "outputs": [
        {
          "output_type": "stream",
          "name": "stdout",
          "text": [
            "1\n",
            "3\n",
            "5\n",
            "7\n",
            "9\n"
          ]
        }
      ]
    },
    {
      "cell_type": "code",
      "source": [
        "# for loop example\n",
        "for i in 'Delhi':\n",
        "  print(i)\n"
      ],
      "metadata": {
        "id": "fezDpZYMgIGh",
        "colab": {
          "base_uri": "https://localhost:8080/"
        },
        "outputId": "985ff1e6-d464-45ed-e859-9bdd8c55480c"
      },
      "execution_count": 7,
      "outputs": [
        {
          "output_type": "stream",
          "name": "stdout",
          "text": [
            "D\n",
            "e\n",
            "l\n",
            "h\n",
            "i\n"
          ]
        }
      ]
    },
    {
      "cell_type": "markdown",
      "source": [
        "Program : The current population of a town is 10000. The population of the town is increasing at the rate of 10% per year. You have to write a program to find out the population at the end of each year."
      ],
      "metadata": {
        "id": "jiqLZpuKUt7K"
      }
    },
    {
      "cell_type": "code",
      "source": [
        "curr_pop=10000\n",
        "for i in range(10,0,-1):\n",
        "  print(i,curr_pop)\n",
        "  curr_pop=curr_pop/1.1\n"
      ],
      "metadata": {
        "colab": {
          "base_uri": "https://localhost:8080/"
        },
        "id": "xDvhqzvIUpGM",
        "outputId": "475254a8-4a77-4082-84cd-5fcf972fd779"
      },
      "execution_count": 9,
      "outputs": [
        {
          "output_type": "stream",
          "name": "stdout",
          "text": [
            "10 10000\n",
            "9 9090.90909090909\n",
            "8 8264.462809917353\n",
            "7 7513.148009015775\n",
            "6 6830.134553650703\n",
            "5 6209.213230591548\n",
            "4 5644.739300537771\n",
            "3 5131.5811823070635\n",
            "2 4665.07380209733\n",
            "1 4240.976183724845\n"
          ]
        }
      ]
    },
    {
      "cell_type": "markdown",
      "source": [
        "Sequence sum\n",
        "1/1! + 2/2! + 3/3! +..."
      ],
      "metadata": {
        "id": "iaOFzu8ybUVZ"
      }
    },
    {
      "cell_type": "code",
      "source": [
        "n=int(input('enter n'))\n",
        "\n",
        "result=0\n",
        "fact=1\n",
        "for i in range(1,n+1):\n",
        "  fact=fact*1\n",
        "  result=result + i/fact\n",
        "print(result)\n"
      ],
      "metadata": {
        "colab": {
          "base_uri": "https://localhost:8080/"
        },
        "id": "wAGbwxH_UpIg",
        "outputId": "a9ff30ec-d531-4f2f-9d15-92f6bbf3ef8c"
      },
      "execution_count": 12,
      "outputs": [
        {
          "output_type": "stream",
          "name": "stdout",
          "text": [
            "enter n5\n",
            "15.0\n"
          ]
        }
      ]
    },
    {
      "cell_type": "markdown",
      "source": [
        "### **Nested Loops**"
      ],
      "metadata": {
        "id": "lF8n1l8WiOdt"
      }
    },
    {
      "cell_type": "code",
      "source": [
        "# example -> Unique pairs\n",
        "for i in range(1,5):\n",
        "  for j in range(1,5):\n",
        "    print(i,j)"
      ],
      "metadata": {
        "colab": {
          "base_uri": "https://localhost:8080/"
        },
        "id": "CtnjAeQvUpLz",
        "outputId": "be9427ef-c321-437b-c90b-78c4475241cc"
      },
      "execution_count": 13,
      "outputs": [
        {
          "output_type": "stream",
          "name": "stdout",
          "text": [
            "1 1\n",
            "1 2\n",
            "1 3\n",
            "1 4\n",
            "2 1\n",
            "2 2\n",
            "2 3\n",
            "2 4\n",
            "3 1\n",
            "3 2\n",
            "3 3\n",
            "3 4\n",
            "4 1\n",
            "4 2\n",
            "4 3\n",
            "4 4\n"
          ]
        }
      ]
    },
    {
      "cell_type": "markdown",
      "source": [
        "# Pattern 1\n",
        "\n",
        "\n",
        "*\n",
        "\n",
        "**\n",
        "\n",
        "***\n",
        "\n",
        "\n",
        "\n"
      ],
      "metadata": {
        "id": "r5UJUtOkjRAN"
      }
    },
    {
      "cell_type": "code",
      "source": [
        "rows=int(input('enter number of rows'))\n",
        "for i in range(1,rows+1):\n",
        "  for j in range(1,i+1):\n",
        "   print('*',end='')\n",
        "  print()"
      ],
      "metadata": {
        "colab": {
          "base_uri": "https://localhost:8080/"
        },
        "id": "NEtSPhnqjLhG",
        "outputId": "27ad1eb2-ede0-4c0c-8f30-3a9a0e782395"
      },
      "execution_count": 21,
      "outputs": [
        {
          "output_type": "stream",
          "name": "stdout",
          "text": [
            "enter number of rows5\n",
            "*\n",
            "**\n",
            "***\n",
            "****\n",
            "*****\n"
          ]
        }
      ]
    },
    {
      "cell_type": "code",
      "source": [
        "rows=int(input('enter number of rows'))\n",
        "for i in range(1,rows+1):\n",
        "  for j in range(1,i+1):\n",
        "    print(j,end='')\n",
        "  for k in range(i-1,0,-1):\n",
        "    print(k,end='')\n",
        "  print()"
      ],
      "metadata": {
        "colab": {
          "base_uri": "https://localhost:8080/"
        },
        "id": "fkWxGK4-jLie",
        "outputId": "65c90139-977c-46fb-9d71-50b27e1f9bb9"
      },
      "execution_count": 23,
      "outputs": [
        {
          "output_type": "stream",
          "name": "stdout",
          "text": [
            "enter number of rows4\n",
            "1\n",
            "121\n",
            "12321\n",
            "1234321\n"
          ]
        }
      ]
    },
    {
      "cell_type": "markdown",
      "source": [
        "### loop control statement\n",
        ". Break\n",
        "\n",
        ". Continue\n",
        "\n",
        ". pass"
      ],
      "metadata": {
        "id": "4YZ-bYxZn-YD"
      }
    },
    {
      "cell_type": "code",
      "source": [
        "for i in range(1,10):\n",
        "  if i==5:\n",
        "    break\n",
        "  print(i)\n",
        "\n"
      ],
      "metadata": {
        "colab": {
          "base_uri": "https://localhost:8080/"
        },
        "id": "-2eyluKxjLkh",
        "outputId": "c53c9cdc-4201-4d20-9714-1de6c2bb4d20"
      },
      "execution_count": 26,
      "outputs": [
        {
          "output_type": "stream",
          "name": "stdout",
          "text": [
            "1\n",
            "2\n",
            "3\n",
            "4\n"
          ]
        }
      ]
    },
    {
      "cell_type": "code",
      "source": [
        "lower=int(input('enter lower range'))\n",
        "upper=int(input('enter upper range'))\n",
        "\n",
        "for i in range(lower,upper+1):\n",
        "  for j in range(2,i):\n",
        "    if i%j==0:\n",
        "      break\n",
        "  else:\n",
        "    print(i)"
      ],
      "metadata": {
        "colab": {
          "base_uri": "https://localhost:8080/"
        },
        "id": "6gSY8XOSjLmm",
        "outputId": "e472ffdf-9853-40af-a2e3-36d09ce2c55e"
      },
      "execution_count": 27,
      "outputs": [
        {
          "output_type": "stream",
          "name": "stdout",
          "text": [
            "enter lower range10\n",
            "enter upper range100\n",
            "11\n",
            "13\n",
            "17\n",
            "19\n",
            "23\n",
            "29\n",
            "31\n",
            "37\n",
            "41\n",
            "43\n",
            "47\n",
            "53\n",
            "59\n",
            "61\n",
            "67\n",
            "71\n",
            "73\n",
            "79\n",
            "83\n",
            "89\n",
            "97\n"
          ]
        }
      ]
    },
    {
      "cell_type": "code",
      "source": [
        "# continue statement\n",
        "for i in range(1,10):\n",
        "  if i == 5:\n",
        "    continue\n",
        "  print(i)"
      ],
      "metadata": {
        "colab": {
          "base_uri": "https://localhost:8080/"
        },
        "id": "LwikM1ZEjLqC",
        "outputId": "853a1ae1-4288-431d-b63f-5cf0464fba60"
      },
      "execution_count": 33,
      "outputs": [
        {
          "output_type": "stream",
          "name": "stdout",
          "text": [
            "1\n",
            "2\n",
            "3\n",
            "4\n",
            "6\n",
            "7\n",
            "8\n",
            "9\n"
          ]
        }
      ]
    },
    {
      "cell_type": "code",
      "source": [
        "for i in range(1,10):\n",
        "  pass"
      ],
      "metadata": {
        "id": "guXohW9AqicG"
      },
      "execution_count": 34,
      "outputs": []
    }
  ]
}
