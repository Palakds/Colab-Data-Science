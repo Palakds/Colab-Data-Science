{
  "nbformat": 4,
  "nbformat_minor": 0,
  "metadata": {
    "colab": {
      "provenance": [],
      "authorship_tag": "ABX9TyOKtnxuqvmAcvvBeb16c6ch",
      "include_colab_link": true
    },
    "kernelspec": {
      "name": "python3",
      "display_name": "Python 3"
    },
    "language_info": {
      "name": "python"
    }
  },
  "cells": [
    {
      "cell_type": "markdown",
      "metadata": {
        "id": "view-in-github",
        "colab_type": "text"
      },
      "source": [
        "<a href=\"https://colab.research.google.com/github/Palakds/Palakds/blob/main/Chi_Square.ipynb\" target=\"_parent\"><img src=\"https://colab.research.google.com/assets/colab-badge.svg\" alt=\"Open In Colab\"/></a>"
      ]
    },
    {
      "cell_type": "code",
      "execution_count": 1,
      "metadata": {
        "id": "8B1i2atbcCX6"
      },
      "outputs": [],
      "source": [
        "import scipy.stats as stat\n",
        "import numpy as np"
      ]
    },
    {
      "cell_type": "code",
      "source": [
        "## No of hours students study daily in a weekly basis\n",
        "expected_data=[8,6,7,9,6,9,7]\n",
        "observed_data=[7,8,6,9,9,6,7]"
      ],
      "metadata": {
        "id": "EW_ULpxGcRnA"
      },
      "execution_count": 2,
      "outputs": []
    },
    {
      "cell_type": "code",
      "source": [
        "sum(expected_data),sum(observed_data)"
      ],
      "metadata": {
        "colab": {
          "base_uri": "https://localhost:8080/"
        },
        "id": "JQlOso8LcoiT",
        "outputId": "af0f070c-19f8-4121-9174-b272cdd85afa"
      },
      "execution_count": 4,
      "outputs": [
        {
          "output_type": "execute_result",
          "data": {
            "text/plain": [
              "(52, 52)"
            ]
          },
          "metadata": {},
          "execution_count": 4
        }
      ]
    },
    {
      "cell_type": "code",
      "source": [
        "## Chi square goodness of fit\n",
        "chisquare_test_statistics,p_value=stat.chisquare(observed_data,expected_data)"
      ],
      "metadata": {
        "id": "hGyNvSVgcuON"
      },
      "execution_count": 5,
      "outputs": []
    },
    {
      "cell_type": "code",
      "source": [
        "print(chisquare_test_statistics),print(p_value)\n"
      ],
      "metadata": {
        "colab": {
          "base_uri": "https://localhost:8080/"
        },
        "id": "5xbJUU6XdBfO",
        "outputId": "b0679a0e-fa55-4e17-9397-78850f254ba8"
      },
      "execution_count": 6,
      "outputs": [
        {
          "output_type": "stream",
          "name": "stdout",
          "text": [
            "3.4345238095238093\n",
            "0.7526596580922865\n"
          ]
        },
        {
          "output_type": "execute_result",
          "data": {
            "text/plain": [
              "(None, None)"
            ]
          },
          "metadata": {},
          "execution_count": 6
        }
      ]
    },
    {
      "cell_type": "code",
      "source": [
        "significance = 0.05\n",
        "dof = len(observed_data)-1\n",
        "critical_value = stat.chi2.ppf(1 - significance, dof)"
      ],
      "metadata": {
        "id": "ShwJrT5EdJQz"
      },
      "execution_count": 11,
      "outputs": []
    },
    {
      "cell_type": "code",
      "source": [
        "critical_value"
      ],
      "metadata": {
        "colab": {
          "base_uri": "https://localhost:8080/"
        },
        "id": "EKJJu9LkdYLA",
        "outputId": "94a5975b-3e01-4b8d-d16c-ce237190b179"
      },
      "execution_count": 12,
      "outputs": [
        {
          "output_type": "execute_result",
          "data": {
            "text/plain": [
              "12.591587243743977"
            ]
          },
          "metadata": {},
          "execution_count": 12
        }
      ]
    },
    {
      "cell_type": "code",
      "source": [
        "if chisquare_test_statistics>critical_value:\n",
        "  print(\"Reject the null hypthesis\")\n",
        "else:\n",
        "  print(\"Accept the null hypothesis\")"
      ],
      "metadata": {
        "colab": {
          "base_uri": "https://localhost:8080/"
        },
        "id": "8D703lVBdjUI",
        "outputId": "eb500ba3-6aa2-4680-d98a-e2a72c08d002"
      },
      "execution_count": 13,
      "outputs": [
        {
          "output_type": "stream",
          "name": "stdout",
          "text": [
            "Accept the null hypothesis\n"
          ]
        }
      ]
    },
    {
      "cell_type": "code",
      "source": [],
      "metadata": {
        "id": "jC_eXJpld3b6"
      },
      "execution_count": null,
      "outputs": []
    }
  ]
}